{
 "cells": [
  {
   "cell_type": "markdown",
   "metadata": {},
   "source": [
    "# Case Study: RMS dataset Kaplan Meier analysis.\n",
    "\n",
    "\n",
    "### This notebook uses a dataset provided by Maja C who studies pediatric oncology patients. "
   ]
  },
  {
   "cell_type": "code",
   "execution_count": 660,
   "metadata": {},
   "outputs": [
    {
     "data": {
      "text/plain": [
       "(189, 24)"
      ]
     },
     "execution_count": 660,
     "metadata": {},
     "output_type": "execute_result"
    }
   ],
   "source": [
    "from pandas import DataFrame, read_csv\n",
    "import matplotlib.pyplot as plt\n",
    "import pandas as pd \n",
    "import numpy as np\n",
    "import datetime as dt\n",
    "%matplotlib inline\n",
    "\n",
    " \n",
    "file = r'RMS tabela final-7.xls'\n",
    "df = pd.read_excel(file, sheet_name='Sheet2')\n",
    "df.shape"
   ]
  },
  {
   "cell_type": "code",
   "execution_count": 661,
   "metadata": {},
   "outputs": [
    {
     "data": {
      "text/html": [
       "<div>\n",
       "<style scoped>\n",
       "    .dataframe tbody tr th:only-of-type {\n",
       "        vertical-align: middle;\n",
       "    }\n",
       "\n",
       "    .dataframe tbody tr th {\n",
       "        vertical-align: top;\n",
       "    }\n",
       "\n",
       "    .dataframe thead th {\n",
       "        text-align: right;\n",
       "    }\n",
       "</style>\n",
       "<table border=\"1\" class=\"dataframe\">\n",
       "  <thead>\n",
       "    <tr style=\"text-align: right;\">\n",
       "      <th></th>\n",
       "      <th>zap st</th>\n",
       "      <th>dan</th>\n",
       "      <th>mesec</th>\n",
       "      <th>leto roj</th>\n",
       "      <th>dan.1</th>\n",
       "      <th>mesec.1</th>\n",
       "      <th>leto dg</th>\n",
       "      <th>patol</th>\n",
       "      <th>IRS</th>\n",
       "      <th>mesto</th>\n",
       "      <th>...</th>\n",
       "      <th>R0,1,2</th>\n",
       "      <th>RT</th>\n",
       "      <th>RT ob relapsu</th>\n",
       "      <th>dan.2</th>\n",
       "      <th>mesec.2</th>\n",
       "      <th>leto smrti</th>\n",
       "      <th>status</th>\n",
       "      <th>dan.3</th>\n",
       "      <th>mesec.3</th>\n",
       "      <th>leto relapsa</th>\n",
       "    </tr>\n",
       "  </thead>\n",
       "  <tbody>\n",
       "    <tr>\n",
       "      <th>0</th>\n",
       "      <td>MB</td>\n",
       "      <td>11.0</td>\n",
       "      <td>2.0</td>\n",
       "      <td>1985.0</td>\n",
       "      <td>7.0</td>\n",
       "      <td>2.0</td>\n",
       "      <td>2000.0</td>\n",
       "      <td>2</td>\n",
       "      <td>4.0</td>\n",
       "      <td>5</td>\n",
       "      <td>...</td>\n",
       "      <td>NaN</td>\n",
       "      <td>1</td>\n",
       "      <td>1.0</td>\n",
       "      <td>4.0</td>\n",
       "      <td>12.0</td>\n",
       "      <td>2000.0</td>\n",
       "      <td>2</td>\n",
       "      <td>NaN</td>\n",
       "      <td>11.0</td>\n",
       "      <td>2000.0</td>\n",
       "    </tr>\n",
       "    <tr>\n",
       "      <th>1</th>\n",
       "      <td>KGP</td>\n",
       "      <td>30.0</td>\n",
       "      <td>7.0</td>\n",
       "      <td>1990.0</td>\n",
       "      <td>27.0</td>\n",
       "      <td>2.0</td>\n",
       "      <td>2001.0</td>\n",
       "      <td>3</td>\n",
       "      <td>4.0</td>\n",
       "      <td>5</td>\n",
       "      <td>...</td>\n",
       "      <td>NaN</td>\n",
       "      <td>2</td>\n",
       "      <td>NaN</td>\n",
       "      <td>25.0</td>\n",
       "      <td>8.0</td>\n",
       "      <td>2001.0</td>\n",
       "      <td>2</td>\n",
       "      <td>NaN</td>\n",
       "      <td>NaN</td>\n",
       "      <td>NaN</td>\n",
       "    </tr>\n",
       "    <tr>\n",
       "      <th>2</th>\n",
       "      <td>KM</td>\n",
       "      <td>23.0</td>\n",
       "      <td>12.0</td>\n",
       "      <td>1993.0</td>\n",
       "      <td>9.0</td>\n",
       "      <td>5.0</td>\n",
       "      <td>2001.0</td>\n",
       "      <td>1</td>\n",
       "      <td>3.0</td>\n",
       "      <td>2</td>\n",
       "      <td>...</td>\n",
       "      <td>NaN</td>\n",
       "      <td>1</td>\n",
       "      <td>NaN</td>\n",
       "      <td>NaN</td>\n",
       "      <td>NaN</td>\n",
       "      <td>NaN</td>\n",
       "      <td>1</td>\n",
       "      <td>NaN</td>\n",
       "      <td>NaN</td>\n",
       "      <td>NaN</td>\n",
       "    </tr>\n",
       "    <tr>\n",
       "      <th>3</th>\n",
       "      <td>SN</td>\n",
       "      <td>20.0</td>\n",
       "      <td>9.0</td>\n",
       "      <td>1999.0</td>\n",
       "      <td>20.0</td>\n",
       "      <td>10.0</td>\n",
       "      <td>2001.0</td>\n",
       "      <td>1</td>\n",
       "      <td>4.0</td>\n",
       "      <td>5</td>\n",
       "      <td>...</td>\n",
       "      <td>1</td>\n",
       "      <td>1</td>\n",
       "      <td>2.0</td>\n",
       "      <td>8.0</td>\n",
       "      <td>1.0</td>\n",
       "      <td>2004.0</td>\n",
       "      <td>2</td>\n",
       "      <td>NaN</td>\n",
       "      <td>9.0</td>\n",
       "      <td>2003.0</td>\n",
       "    </tr>\n",
       "    <tr>\n",
       "      <th>4</th>\n",
       "      <td>KK</td>\n",
       "      <td>15.0</td>\n",
       "      <td>12.0</td>\n",
       "      <td>1996.0</td>\n",
       "      <td>1.0</td>\n",
       "      <td>2.0</td>\n",
       "      <td>2002.0</td>\n",
       "      <td>1</td>\n",
       "      <td>1.0</td>\n",
       "      <td>8</td>\n",
       "      <td>...</td>\n",
       "      <td>0</td>\n",
       "      <td>2</td>\n",
       "      <td>NaN</td>\n",
       "      <td>NaN</td>\n",
       "      <td>NaN</td>\n",
       "      <td>NaN</td>\n",
       "      <td>1</td>\n",
       "      <td>NaN</td>\n",
       "      <td>NaN</td>\n",
       "      <td>NaN</td>\n",
       "    </tr>\n",
       "    <tr>\n",
       "      <th>5</th>\n",
       "      <td>ST</td>\n",
       "      <td>19.0</td>\n",
       "      <td>9.0</td>\n",
       "      <td>1986.0</td>\n",
       "      <td>5.0</td>\n",
       "      <td>8.0</td>\n",
       "      <td>2002.0</td>\n",
       "      <td>1</td>\n",
       "      <td>3.0</td>\n",
       "      <td>2</td>\n",
       "      <td>...</td>\n",
       "      <td>NaN</td>\n",
       "      <td>1</td>\n",
       "      <td>NaN</td>\n",
       "      <td>NaN</td>\n",
       "      <td>NaN</td>\n",
       "      <td>NaN</td>\n",
       "      <td>1</td>\n",
       "      <td>NaN</td>\n",
       "      <td>NaN</td>\n",
       "      <td>NaN</td>\n",
       "    </tr>\n",
       "    <tr>\n",
       "      <th>6</th>\n",
       "      <td>HZ</td>\n",
       "      <td>3.0</td>\n",
       "      <td>4.0</td>\n",
       "      <td>2002.0</td>\n",
       "      <td>14.0</td>\n",
       "      <td>2.0</td>\n",
       "      <td>2003.0</td>\n",
       "      <td>1</td>\n",
       "      <td>3.0</td>\n",
       "      <td>7</td>\n",
       "      <td>...</td>\n",
       "      <td>1</td>\n",
       "      <td>2</td>\n",
       "      <td>2.0</td>\n",
       "      <td>NaN</td>\n",
       "      <td>NaN</td>\n",
       "      <td>NaN</td>\n",
       "      <td>1</td>\n",
       "      <td>NaN</td>\n",
       "      <td>2.0</td>\n",
       "      <td>2004.0</td>\n",
       "    </tr>\n",
       "    <tr>\n",
       "      <th>7</th>\n",
       "      <td>MM</td>\n",
       "      <td>27.0</td>\n",
       "      <td>1.0</td>\n",
       "      <td>1992.0</td>\n",
       "      <td>27.0</td>\n",
       "      <td>10.0</td>\n",
       "      <td>2003.0</td>\n",
       "      <td>1</td>\n",
       "      <td>3.0</td>\n",
       "      <td>2</td>\n",
       "      <td>...</td>\n",
       "      <td>NaN</td>\n",
       "      <td>1</td>\n",
       "      <td>NaN</td>\n",
       "      <td>NaN</td>\n",
       "      <td>NaN</td>\n",
       "      <td>NaN</td>\n",
       "      <td>1</td>\n",
       "      <td>NaN</td>\n",
       "      <td>NaN</td>\n",
       "      <td>NaN</td>\n",
       "    </tr>\n",
       "    <tr>\n",
       "      <th>8</th>\n",
       "      <td>ZI</td>\n",
       "      <td>6.0</td>\n",
       "      <td>11.0</td>\n",
       "      <td>1985.0</td>\n",
       "      <td>3.0</td>\n",
       "      <td>10.0</td>\n",
       "      <td>2003.0</td>\n",
       "      <td>2</td>\n",
       "      <td>3.0</td>\n",
       "      <td>5</td>\n",
       "      <td>...</td>\n",
       "      <td>NaN</td>\n",
       "      <td>1</td>\n",
       "      <td>2.0</td>\n",
       "      <td>24.0</td>\n",
       "      <td>5.0</td>\n",
       "      <td>2004.0</td>\n",
       "      <td>2</td>\n",
       "      <td>NaN</td>\n",
       "      <td>3.0</td>\n",
       "      <td>2004.0</td>\n",
       "    </tr>\n",
       "    <tr>\n",
       "      <th>9</th>\n",
       "      <td>KK</td>\n",
       "      <td>22.0</td>\n",
       "      <td>12.0</td>\n",
       "      <td>1988.0</td>\n",
       "      <td>6.0</td>\n",
       "      <td>1.0</td>\n",
       "      <td>2005.0</td>\n",
       "      <td>4</td>\n",
       "      <td>1.0</td>\n",
       "      <td>8</td>\n",
       "      <td>...</td>\n",
       "      <td>1</td>\n",
       "      <td>1</td>\n",
       "      <td>NaN</td>\n",
       "      <td>NaN</td>\n",
       "      <td>NaN</td>\n",
       "      <td>NaN</td>\n",
       "      <td>1</td>\n",
       "      <td>NaN</td>\n",
       "      <td>NaN</td>\n",
       "      <td>NaN</td>\n",
       "    </tr>\n",
       "  </tbody>\n",
       "</table>\n",
       "<p>10 rows × 24 columns</p>\n",
       "</div>"
      ],
      "text/plain": [
       "  zap st   dan  mesec  leto roj  dan.1  mesec.1  leto dg patol  IRS mesto  \\\n",
       "0     MB  11.0    2.0    1985.0    7.0      2.0   2000.0     2  4.0     5   \n",
       "1    KGP  30.0    7.0    1990.0   27.0      2.0   2001.0     3  4.0     5   \n",
       "2     KM  23.0   12.0    1993.0    9.0      5.0   2001.0     1  3.0     2   \n",
       "3     SN  20.0    9.0    1999.0   20.0     10.0   2001.0     1  4.0     5   \n",
       "4     KK  15.0   12.0    1996.0    1.0      2.0   2002.0     1  1.0     8   \n",
       "5     ST  19.0    9.0    1986.0    5.0      8.0   2002.0     1  3.0     2   \n",
       "6     HZ   3.0    4.0    2002.0   14.0      2.0   2003.0     1  3.0     7   \n",
       "7     MM  27.0    1.0    1992.0   27.0     10.0   2003.0     1  3.0     2   \n",
       "8     ZI   6.0   11.0    1985.0    3.0     10.0   2003.0     2  3.0     5   \n",
       "9     KK  22.0   12.0    1988.0    6.0      1.0   2005.0     4  1.0     8   \n",
       "\n",
       "   ... R0,1,2 RT RT ob relapsu dan.2 mesec.2 leto smrti  status  dan.3  \\\n",
       "0  ...    NaN  1           1.0   4.0    12.0     2000.0       2    NaN   \n",
       "1  ...    NaN  2           NaN  25.0     8.0     2001.0       2    NaN   \n",
       "2  ...    NaN  1           NaN   NaN     NaN        NaN       1    NaN   \n",
       "3  ...      1  1           2.0   8.0     1.0     2004.0       2    NaN   \n",
       "4  ...      0  2           NaN   NaN     NaN        NaN       1    NaN   \n",
       "5  ...    NaN  1           NaN   NaN     NaN        NaN       1    NaN   \n",
       "6  ...      1  2           2.0   NaN     NaN        NaN       1    NaN   \n",
       "7  ...    NaN  1           NaN   NaN     NaN        NaN       1    NaN   \n",
       "8  ...    NaN  1           2.0  24.0     5.0     2004.0       2    NaN   \n",
       "9  ...      1  1           NaN   NaN     NaN        NaN       1    NaN   \n",
       "\n",
       "   mesec.3  leto relapsa  \n",
       "0     11.0        2000.0  \n",
       "1      NaN           NaN  \n",
       "2      NaN           NaN  \n",
       "3      9.0        2003.0  \n",
       "4      NaN           NaN  \n",
       "5      NaN           NaN  \n",
       "6      2.0        2004.0  \n",
       "7      NaN           NaN  \n",
       "8      3.0        2004.0  \n",
       "9      NaN           NaN  \n",
       "\n",
       "[10 rows x 24 columns]"
      ]
     },
     "execution_count": 661,
     "metadata": {},
     "output_type": "execute_result"
    }
   ],
   "source": [
    "#Display first 10 raws of the table\n",
    "\n",
    "df.head(10)"
   ]
  },
  {
   "cell_type": "code",
   "execution_count": 662,
   "metadata": {},
   "outputs": [
    {
     "data": {
      "text/html": [
       "<div>\n",
       "<style scoped>\n",
       "    .dataframe tbody tr th:only-of-type {\n",
       "        vertical-align: middle;\n",
       "    }\n",
       "\n",
       "    .dataframe tbody tr th {\n",
       "        vertical-align: top;\n",
       "    }\n",
       "\n",
       "    .dataframe thead th {\n",
       "        text-align: right;\n",
       "    }\n",
       "</style>\n",
       "<table border=\"1\" class=\"dataframe\">\n",
       "  <thead>\n",
       "    <tr style=\"text-align: right;\">\n",
       "      <th></th>\n",
       "      <th>zap st</th>\n",
       "      <th>dan</th>\n",
       "      <th>mesec</th>\n",
       "      <th>leto roj</th>\n",
       "      <th>dan.1</th>\n",
       "      <th>mesec.1</th>\n",
       "      <th>leto dg</th>\n",
       "      <th>patol</th>\n",
       "      <th>IRS</th>\n",
       "      <th>mesto</th>\n",
       "      <th>...</th>\n",
       "      <th>R0,1,2</th>\n",
       "      <th>RT</th>\n",
       "      <th>RT ob relapsu</th>\n",
       "      <th>dan.2</th>\n",
       "      <th>mesec.2</th>\n",
       "      <th>leto smrti</th>\n",
       "      <th>status</th>\n",
       "      <th>dan.3</th>\n",
       "      <th>mesec.3</th>\n",
       "      <th>leto relapsa</th>\n",
       "    </tr>\n",
       "  </thead>\n",
       "  <tbody>\n",
       "    <tr>\n",
       "      <th>179</th>\n",
       "      <td>NaN</td>\n",
       "      <td>NaN</td>\n",
       "      <td>NaN</td>\n",
       "      <td>NaN</td>\n",
       "      <td>NaN</td>\n",
       "      <td>NaN</td>\n",
       "      <td>NaN</td>\n",
       "      <td>NaN</td>\n",
       "      <td>NaN</td>\n",
       "      <td>NaN</td>\n",
       "      <td>...</td>\n",
       "      <td>NaN</td>\n",
       "      <td>NaN</td>\n",
       "      <td>NaN</td>\n",
       "      <td>NaN</td>\n",
       "      <td>NaN</td>\n",
       "      <td>NaN</td>\n",
       "      <td>NaN</td>\n",
       "      <td>NaN</td>\n",
       "      <td>NaN</td>\n",
       "      <td>NaN</td>\n",
       "    </tr>\n",
       "    <tr>\n",
       "      <th>180</th>\n",
       "      <td>NaN</td>\n",
       "      <td>NaN</td>\n",
       "      <td>NaN</td>\n",
       "      <td>NaN</td>\n",
       "      <td>NaN</td>\n",
       "      <td>NaN</td>\n",
       "      <td>NaN</td>\n",
       "      <td>NaN</td>\n",
       "      <td>NaN</td>\n",
       "      <td>NaN</td>\n",
       "      <td>...</td>\n",
       "      <td>NaN</td>\n",
       "      <td>NaN</td>\n",
       "      <td>NaN</td>\n",
       "      <td>NaN</td>\n",
       "      <td>NaN</td>\n",
       "      <td>NaN</td>\n",
       "      <td>NaN</td>\n",
       "      <td>NaN</td>\n",
       "      <td>NaN</td>\n",
       "      <td>NaN</td>\n",
       "    </tr>\n",
       "    <tr>\n",
       "      <th>181</th>\n",
       "      <td>NaN</td>\n",
       "      <td>NaN</td>\n",
       "      <td>NaN</td>\n",
       "      <td>NaN</td>\n",
       "      <td>NaN</td>\n",
       "      <td>NaN</td>\n",
       "      <td>NaN</td>\n",
       "      <td>1=E</td>\n",
       "      <td>NaN</td>\n",
       "      <td>1=H/N</td>\n",
       "      <td>...</td>\n",
       "      <td>R0=0</td>\n",
       "      <td>1=Y</td>\n",
       "      <td>NaN</td>\n",
       "      <td>NaN</td>\n",
       "      <td>NaN</td>\n",
       "      <td>NaN</td>\n",
       "      <td>1=ziv</td>\n",
       "      <td>NaN</td>\n",
       "      <td>NaN</td>\n",
       "      <td>NaN</td>\n",
       "    </tr>\n",
       "    <tr>\n",
       "      <th>182</th>\n",
       "      <td>NaN</td>\n",
       "      <td>NaN</td>\n",
       "      <td>NaN</td>\n",
       "      <td>NaN</td>\n",
       "      <td>NaN</td>\n",
       "      <td>NaN</td>\n",
       "      <td>NaN</td>\n",
       "      <td>2=A</td>\n",
       "      <td>NaN</td>\n",
       "      <td>2=parameningeal</td>\n",
       "      <td>...</td>\n",
       "      <td>R1=1</td>\n",
       "      <td>2=N</td>\n",
       "      <td>NaN</td>\n",
       "      <td>NaN</td>\n",
       "      <td>NaN</td>\n",
       "      <td>NaN</td>\n",
       "      <td>2=mrtev</td>\n",
       "      <td>NaN</td>\n",
       "      <td>NaN</td>\n",
       "      <td>NaN</td>\n",
       "    </tr>\n",
       "    <tr>\n",
       "      <th>183</th>\n",
       "      <td>NaN</td>\n",
       "      <td>NaN</td>\n",
       "      <td>NaN</td>\n",
       "      <td>NaN</td>\n",
       "      <td>NaN</td>\n",
       "      <td>NaN</td>\n",
       "      <td>NaN</td>\n",
       "      <td>3=ni znano</td>\n",
       "      <td>NaN</td>\n",
       "      <td>3=orbita</td>\n",
       "      <td>...</td>\n",
       "      <td>R2=2</td>\n",
       "      <td>NaN</td>\n",
       "      <td>NaN</td>\n",
       "      <td>NaN</td>\n",
       "      <td>NaN</td>\n",
       "      <td>NaN</td>\n",
       "      <td>3=toksicna smrt</td>\n",
       "      <td>NaN</td>\n",
       "      <td>NaN</td>\n",
       "      <td>NaN</td>\n",
       "    </tr>\n",
       "    <tr>\n",
       "      <th>184</th>\n",
       "      <td>NaN</td>\n",
       "      <td>NaN</td>\n",
       "      <td>NaN</td>\n",
       "      <td>NaN</td>\n",
       "      <td>NaN</td>\n",
       "      <td>NaN</td>\n",
       "      <td>NaN</td>\n",
       "      <td>4=spindle, botroid</td>\n",
       "      <td>NaN</td>\n",
       "      <td>4=okoncine</td>\n",
       "      <td>...</td>\n",
       "      <td>R3=3</td>\n",
       "      <td>NaN</td>\n",
       "      <td>NaN</td>\n",
       "      <td>NaN</td>\n",
       "      <td>NaN</td>\n",
       "      <td>NaN</td>\n",
       "      <td>NaN</td>\n",
       "      <td>NaN</td>\n",
       "      <td>NaN</td>\n",
       "      <td>NaN</td>\n",
       "    </tr>\n",
       "    <tr>\n",
       "      <th>185</th>\n",
       "      <td>NaN</td>\n",
       "      <td>NaN</td>\n",
       "      <td>NaN</td>\n",
       "      <td>NaN</td>\n",
       "      <td>NaN</td>\n",
       "      <td>NaN</td>\n",
       "      <td>NaN</td>\n",
       "      <td>NaN</td>\n",
       "      <td>NaN</td>\n",
       "      <td>5=toraks</td>\n",
       "      <td>...</td>\n",
       "      <td>4=ni znano</td>\n",
       "      <td>NaN</td>\n",
       "      <td>NaN</td>\n",
       "      <td>NaN</td>\n",
       "      <td>NaN</td>\n",
       "      <td>NaN</td>\n",
       "      <td>NaN</td>\n",
       "      <td>NaN</td>\n",
       "      <td>NaN</td>\n",
       "      <td>NaN</td>\n",
       "    </tr>\n",
       "    <tr>\n",
       "      <th>186</th>\n",
       "      <td>NaN</td>\n",
       "      <td>NaN</td>\n",
       "      <td>NaN</td>\n",
       "      <td>NaN</td>\n",
       "      <td>NaN</td>\n",
       "      <td>NaN</td>\n",
       "      <td>NaN</td>\n",
       "      <td>NaN</td>\n",
       "      <td>NaN</td>\n",
       "      <td>6=abdomen, pelvis, retroperitonej</td>\n",
       "      <td>...</td>\n",
       "      <td>NaN</td>\n",
       "      <td>NaN</td>\n",
       "      <td>NaN</td>\n",
       "      <td>NaN</td>\n",
       "      <td>NaN</td>\n",
       "      <td>NaN</td>\n",
       "      <td>NaN</td>\n",
       "      <td>NaN</td>\n",
       "      <td>NaN</td>\n",
       "      <td>NaN</td>\n",
       "    </tr>\n",
       "    <tr>\n",
       "      <th>187</th>\n",
       "      <td>NaN</td>\n",
       "      <td>NaN</td>\n",
       "      <td>NaN</td>\n",
       "      <td>NaN</td>\n",
       "      <td>NaN</td>\n",
       "      <td>NaN</td>\n",
       "      <td>NaN</td>\n",
       "      <td>NaN</td>\n",
       "      <td>NaN</td>\n",
       "      <td>7=bladder/prostate</td>\n",
       "      <td>...</td>\n",
       "      <td>NaN</td>\n",
       "      <td>NaN</td>\n",
       "      <td>NaN</td>\n",
       "      <td>NaN</td>\n",
       "      <td>NaN</td>\n",
       "      <td>NaN</td>\n",
       "      <td>NaN</td>\n",
       "      <td>NaN</td>\n",
       "      <td>NaN</td>\n",
       "      <td>NaN</td>\n",
       "    </tr>\n",
       "    <tr>\n",
       "      <th>188</th>\n",
       "      <td>NaN</td>\n",
       "      <td>NaN</td>\n",
       "      <td>NaN</td>\n",
       "      <td>NaN</td>\n",
       "      <td>NaN</td>\n",
       "      <td>NaN</td>\n",
       "      <td>NaN</td>\n",
       "      <td>NaN</td>\n",
       "      <td>NaN</td>\n",
       "      <td>8=testis, uterus, vagina</td>\n",
       "      <td>...</td>\n",
       "      <td>NaN</td>\n",
       "      <td>NaN</td>\n",
       "      <td>NaN</td>\n",
       "      <td>NaN</td>\n",
       "      <td>NaN</td>\n",
       "      <td>NaN</td>\n",
       "      <td>NaN</td>\n",
       "      <td>NaN</td>\n",
       "      <td>NaN</td>\n",
       "      <td>NaN</td>\n",
       "    </tr>\n",
       "  </tbody>\n",
       "</table>\n",
       "<p>10 rows × 24 columns</p>\n",
       "</div>"
      ],
      "text/plain": [
       "    zap st  dan  mesec  leto roj  dan.1  mesec.1  leto dg               patol  \\\n",
       "179    NaN  NaN    NaN       NaN    NaN      NaN      NaN                 NaN   \n",
       "180    NaN  NaN    NaN       NaN    NaN      NaN      NaN                 NaN   \n",
       "181    NaN  NaN    NaN       NaN    NaN      NaN      NaN                 1=E   \n",
       "182    NaN  NaN    NaN       NaN    NaN      NaN      NaN                 2=A   \n",
       "183    NaN  NaN    NaN       NaN    NaN      NaN      NaN          3=ni znano   \n",
       "184    NaN  NaN    NaN       NaN    NaN      NaN      NaN  4=spindle, botroid   \n",
       "185    NaN  NaN    NaN       NaN    NaN      NaN      NaN                 NaN   \n",
       "186    NaN  NaN    NaN       NaN    NaN      NaN      NaN                 NaN   \n",
       "187    NaN  NaN    NaN       NaN    NaN      NaN      NaN                 NaN   \n",
       "188    NaN  NaN    NaN       NaN    NaN      NaN      NaN                 NaN   \n",
       "\n",
       "     IRS                              mesto  ...      R0,1,2   RT  \\\n",
       "179  NaN                                NaN  ...         NaN  NaN   \n",
       "180  NaN                                NaN  ...         NaN  NaN   \n",
       "181  NaN                              1=H/N  ...        R0=0  1=Y   \n",
       "182  NaN                    2=parameningeal  ...        R1=1  2=N   \n",
       "183  NaN                           3=orbita  ...        R2=2  NaN   \n",
       "184  NaN                         4=okoncine  ...        R3=3  NaN   \n",
       "185  NaN                           5=toraks  ...  4=ni znano  NaN   \n",
       "186  NaN  6=abdomen, pelvis, retroperitonej  ...         NaN  NaN   \n",
       "187  NaN                 7=bladder/prostate  ...         NaN  NaN   \n",
       "188  NaN           8=testis, uterus, vagina  ...         NaN  NaN   \n",
       "\n",
       "    RT ob relapsu dan.2 mesec.2 leto smrti           status  dan.3  mesec.3  \\\n",
       "179           NaN   NaN     NaN        NaN              NaN    NaN      NaN   \n",
       "180           NaN   NaN     NaN        NaN              NaN    NaN      NaN   \n",
       "181           NaN   NaN     NaN        NaN            1=ziv    NaN      NaN   \n",
       "182           NaN   NaN     NaN        NaN          2=mrtev    NaN      NaN   \n",
       "183           NaN   NaN     NaN        NaN  3=toksicna smrt    NaN      NaN   \n",
       "184           NaN   NaN     NaN        NaN              NaN    NaN      NaN   \n",
       "185           NaN   NaN     NaN        NaN              NaN    NaN      NaN   \n",
       "186           NaN   NaN     NaN        NaN              NaN    NaN      NaN   \n",
       "187           NaN   NaN     NaN        NaN              NaN    NaN      NaN   \n",
       "188           NaN   NaN     NaN        NaN              NaN    NaN      NaN   \n",
       "\n",
       "     leto relapsa  \n",
       "179           NaN  \n",
       "180           NaN  \n",
       "181           NaN  \n",
       "182           NaN  \n",
       "183           NaN  \n",
       "184           NaN  \n",
       "185           NaN  \n",
       "186           NaN  \n",
       "187           NaN  \n",
       "188           NaN  \n",
       "\n",
       "[10 rows x 24 columns]"
      ]
     },
     "execution_count": 662,
     "metadata": {},
     "output_type": "execute_result"
    }
   ],
   "source": [
    "#Display last 10 raws of the table\n",
    "\n",
    "df.tail(10)"
   ]
  },
  {
   "cell_type": "markdown",
   "metadata": {},
   "source": [
    "## Cleaning and preparing data\n"
   ]
  },
  {
   "cell_type": "code",
   "execution_count": 663,
   "metadata": {},
   "outputs": [],
   "source": [
    "## delete rows from 181 to the end row since they contain the legend\n",
    "df.drop(df.iloc[181:189,].index, inplace=True)"
   ]
  },
  {
   "cell_type": "code",
   "execution_count": 664,
   "metadata": {},
   "outputs": [],
   "source": [
    "## delete rows that have all values NaN\n",
    "df.dropna(how=\"all\", inplace=True)"
   ]
  },
  {
   "cell_type": "code",
   "execution_count": 665,
   "metadata": {},
   "outputs": [],
   "source": [
    "## delete rows from index 170 to index 179 since user cannot get missing data\n",
    "df.drop(df.iloc[170:179,].index, inplace=True)"
   ]
  },
  {
   "cell_type": "code",
   "execution_count": 666,
   "metadata": {},
   "outputs": [],
   "source": [
    "#set date of diagnosis to 1 for patients in rows 139-169 according to client (they did not have the date of diagnosis\n",
    "# but only age at diagnosis)\n",
    "df['dan.1'].loc[139:170]=1\n"
   ]
  },
  {
   "cell_type": "code",
   "execution_count": 667,
   "metadata": {},
   "outputs": [
    {
     "data": {
      "text/html": [
       "<div>\n",
       "<style scoped>\n",
       "    .dataframe tbody tr th:only-of-type {\n",
       "        vertical-align: middle;\n",
       "    }\n",
       "\n",
       "    .dataframe tbody tr th {\n",
       "        vertical-align: top;\n",
       "    }\n",
       "\n",
       "    .dataframe thead th {\n",
       "        text-align: right;\n",
       "    }\n",
       "</style>\n",
       "<table border=\"1\" class=\"dataframe\">\n",
       "  <thead>\n",
       "    <tr style=\"text-align: right;\">\n",
       "      <th></th>\n",
       "      <th>zap st</th>\n",
       "      <th>dan</th>\n",
       "      <th>mesec</th>\n",
       "      <th>leto roj</th>\n",
       "      <th>dan.1</th>\n",
       "      <th>mesec.1</th>\n",
       "      <th>leto dg</th>\n",
       "      <th>patol</th>\n",
       "      <th>IRS</th>\n",
       "      <th>mesto</th>\n",
       "      <th>...</th>\n",
       "      <th>R0,1,2</th>\n",
       "      <th>RT</th>\n",
       "      <th>RT ob relapsu</th>\n",
       "      <th>dan.2</th>\n",
       "      <th>mesec.2</th>\n",
       "      <th>leto smrti</th>\n",
       "      <th>status</th>\n",
       "      <th>dan.3</th>\n",
       "      <th>mesec.3</th>\n",
       "      <th>leto relapsa</th>\n",
       "    </tr>\n",
       "  </thead>\n",
       "  <tbody>\n",
       "    <tr>\n",
       "      <th>167</th>\n",
       "      <td>LHRA</td>\n",
       "      <td>23.0</td>\n",
       "      <td>10.0</td>\n",
       "      <td>2012.0</td>\n",
       "      <td>1.0</td>\n",
       "      <td>4.0</td>\n",
       "      <td>2014.0</td>\n",
       "      <td>1</td>\n",
       "      <td>1.0</td>\n",
       "      <td>2</td>\n",
       "      <td>...</td>\n",
       "      <td>0</td>\n",
       "      <td>2</td>\n",
       "      <td>2.0</td>\n",
       "      <td>NaN</td>\n",
       "      <td>NaN</td>\n",
       "      <td>NaN</td>\n",
       "      <td>1</td>\n",
       "      <td>NaN</td>\n",
       "      <td>NaN</td>\n",
       "      <td>2016.0</td>\n",
       "    </tr>\n",
       "    <tr>\n",
       "      <th>168</th>\n",
       "      <td>KKAL</td>\n",
       "      <td>19.0</td>\n",
       "      <td>2.0</td>\n",
       "      <td>1999.0</td>\n",
       "      <td>1.0</td>\n",
       "      <td>4.0</td>\n",
       "      <td>2014.0</td>\n",
       "      <td>1</td>\n",
       "      <td>4.0</td>\n",
       "      <td>2</td>\n",
       "      <td>...</td>\n",
       "      <td>NaN</td>\n",
       "      <td>1</td>\n",
       "      <td>NaN</td>\n",
       "      <td>NaN</td>\n",
       "      <td>4.0</td>\n",
       "      <td>2014.0</td>\n",
       "      <td>2</td>\n",
       "      <td>NaN</td>\n",
       "      <td>NaN</td>\n",
       "      <td>NaN</td>\n",
       "    </tr>\n",
       "    <tr>\n",
       "      <th>169</th>\n",
       "      <td>IRAF</td>\n",
       "      <td>12.0</td>\n",
       "      <td>11.0</td>\n",
       "      <td>2012.0</td>\n",
       "      <td>1.0</td>\n",
       "      <td>5.0</td>\n",
       "      <td>2014.0</td>\n",
       "      <td>4</td>\n",
       "      <td>3.0</td>\n",
       "      <td>6</td>\n",
       "      <td>...</td>\n",
       "      <td>NaN</td>\n",
       "      <td>2</td>\n",
       "      <td>NaN</td>\n",
       "      <td>NaN</td>\n",
       "      <td>4.0</td>\n",
       "      <td>2014.0</td>\n",
       "      <td>2</td>\n",
       "      <td>NaN</td>\n",
       "      <td>NaN</td>\n",
       "      <td>NaN</td>\n",
       "    </tr>\n",
       "  </tbody>\n",
       "</table>\n",
       "<p>3 rows × 24 columns</p>\n",
       "</div>"
      ],
      "text/plain": [
       "    zap st   dan  mesec  leto roj  dan.1  mesec.1  leto dg patol  IRS mesto  \\\n",
       "167   LHRA  23.0   10.0    2012.0    1.0      4.0   2014.0     1  1.0     2   \n",
       "168   KKAL  19.0    2.0    1999.0    1.0      4.0   2014.0     1  4.0     2   \n",
       "169   IRAF  12.0   11.0    2012.0    1.0      5.0   2014.0     4  3.0     6   \n",
       "\n",
       "     ... R0,1,2 RT RT ob relapsu dan.2 mesec.2 leto smrti  status  dan.3  \\\n",
       "167  ...      0  2           2.0   NaN     NaN        NaN       1    NaN   \n",
       "168  ...    NaN  1           NaN   NaN     4.0     2014.0       2    NaN   \n",
       "169  ...    NaN  2           NaN   NaN     4.0     2014.0       2    NaN   \n",
       "\n",
       "     mesec.3  leto relapsa  \n",
       "167      NaN        2016.0  \n",
       "168      NaN           NaN  \n",
       "169      NaN           NaN  \n",
       "\n",
       "[3 rows x 24 columns]"
      ]
     },
     "execution_count": 667,
     "metadata": {},
     "output_type": "execute_result"
    }
   ],
   "source": [
    "df.tail(3)"
   ]
  },
  {
   "cell_type": "markdown",
   "metadata": {},
   "source": [
    "### calculate age of patients at diagnosis\n"
   ]
  },
  {
   "cell_type": "code",
   "execution_count": 668,
   "metadata": {},
   "outputs": [],
   "source": [
    "#transform month of birth to string\n",
    "df['mesec'] = df['mesec'].fillna(value=1).astype('int').apply(str)"
   ]
  },
  {
   "cell_type": "code",
   "execution_count": 669,
   "metadata": {},
   "outputs": [],
   "source": [
    "#transform day of birth to string\n",
    "df['dan'] = df['dan'].fillna(value=1).astype('int').apply(str)"
   ]
  },
  {
   "cell_type": "code",
   "execution_count": 670,
   "metadata": {},
   "outputs": [],
   "source": [
    "#transform year of birth to string\n",
    "df['leto roj'] = df['leto roj'].fillna(value=1).astype('int').apply(str)"
   ]
  },
  {
   "cell_type": "code",
   "execution_count": 671,
   "metadata": {},
   "outputs": [],
   "source": [
    "#insert new column with date object for DOB\n",
    "df.insert(4,'rojen', pd.to_datetime(df['leto roj'] + '-' + df['mesec'] + '-' + df['dan']))"
   ]
  },
  {
   "cell_type": "code",
   "execution_count": 672,
   "metadata": {},
   "outputs": [],
   "source": [
    "#transform month of diagnosis to string\n",
    "df['mesec.1'] = df['mesec.1'].fillna(value=1).astype('int').apply(str)"
   ]
  },
  {
   "cell_type": "code",
   "execution_count": 673,
   "metadata": {},
   "outputs": [],
   "source": [
    "#transform day of diagnosis to string\n",
    "df['dan.1'] = df['dan.1'].fillna(value=1).astype('int').apply(str)"
   ]
  },
  {
   "cell_type": "code",
   "execution_count": 674,
   "metadata": {},
   "outputs": [],
   "source": [
    "#transform year of diagnosis to string\n",
    "df['leto dg'] = df['leto dg'].fillna(value=1).astype('int').apply(str)"
   ]
  },
  {
   "cell_type": "code",
   "execution_count": 675,
   "metadata": {},
   "outputs": [],
   "source": [
    "#insert new column with date object for diagnosis \n",
    "df.insert(8,'diagnoza', pd.to_datetime(df['leto dg'] + '-' + df['mesec.1'] + '-' + df['dan.1'], errors = \"coerce\"))"
   ]
  },
  {
   "cell_type": "code",
   "execution_count": 676,
   "metadata": {},
   "outputs": [],
   "source": [
    "df.insert(9,'age at diganosis',round((df['diagnoza'] - df['rojen'])/np.timedelta64(1,'Y'),2))"
   ]
  },
  {
   "cell_type": "code",
   "execution_count": 677,
   "metadata": {},
   "outputs": [
    {
     "data": {
      "text/plain": [
       "(170, 27)"
      ]
     },
     "execution_count": 677,
     "metadata": {},
     "output_type": "execute_result"
    }
   ],
   "source": [
    "df.shape"
   ]
  },
  {
   "cell_type": "code",
   "execution_count": 678,
   "metadata": {},
   "outputs": [],
   "source": [
    "#delete patient who is older then 18 / outlier\n",
    "df.drop(df.loc[df['age at diganosis']>18].index, inplace=True)"
   ]
  },
  {
   "cell_type": "code",
   "execution_count": 679,
   "metadata": {},
   "outputs": [
    {
     "data": {
      "text/plain": [
       "(169, 27)"
      ]
     },
     "execution_count": 679,
     "metadata": {},
     "output_type": "execute_result"
    }
   ],
   "source": [
    "\n",
    "df.shape"
   ]
  },
  {
   "cell_type": "markdown",
   "metadata": {},
   "source": [
    "## calculate date of death for status 2 or 3 "
   ]
  },
  {
   "cell_type": "code",
   "execution_count": 680,
   "metadata": {},
   "outputs": [],
   "source": [
    "# set value for month of death (mesec.2) where it is null to 4 (april)\n",
    "df.loc[((df['status']==2)|(df['status']==3))&(df['mesec.2'].isnull()),['mesec.2']]=4"
   ]
  },
  {
   "cell_type": "code",
   "execution_count": 681,
   "metadata": {},
   "outputs": [],
   "source": [
    "# set value for day of death (day.2) where it is null to 1 \n",
    "df.loc[((df['status']==2)|(df['status']==3))&(df['dan.2'].isnull()),['dan.2']]=1"
   ]
  },
  {
   "cell_type": "code",
   "execution_count": 682,
   "metadata": {},
   "outputs": [],
   "source": [
    "#transform day of death to string\n",
    "df.loc[(df['status']==2)|(df['status']==3),['dan.2']]=df.loc[(df['status']==2)|(df['status']==3)]['dan.2'].astype('int').apply(str)"
   ]
  },
  {
   "cell_type": "code",
   "execution_count": 683,
   "metadata": {},
   "outputs": [],
   "source": [
    "#transform month of death to string\n",
    "df.loc[(df['status']==2)|(df['status']==3),['mesec.2']]=df.loc[(df['status']==2)|(df['status']==3)]['mesec.2'].astype('int').apply(str)"
   ]
  },
  {
   "cell_type": "code",
   "execution_count": 684,
   "metadata": {},
   "outputs": [],
   "source": [
    "#transform year of death to string\n",
    "df.loc[(df['status']==2)|(df['status']==3),['leto smrti']]=df.loc[(df['status']==2)|(df['status']==3)]['leto smrti'].astype('int').apply(str)"
   ]
  },
  {
   "cell_type": "code",
   "execution_count": 685,
   "metadata": {},
   "outputs": [],
   "source": [
    "#insert new column with date death \n",
    "df.insert(23,'datum smrti', pd.to_datetime(df['leto smrti'] + '-' + df['mesec.2'] + '-' + df['dan.2']))"
   ]
  },
  {
   "cell_type": "markdown",
   "metadata": {},
   "source": [
    "## calculate date of relapse for status \"RT at relaps\" 1 or 2"
   ]
  },
  {
   "cell_type": "code",
   "execution_count": 686,
   "metadata": {},
   "outputs": [],
   "source": [
    "# set value for day of relapse to 1 for patients with year of relaps\n",
    "df.loc[(df['leto relapsa'].notnull())&(df['dan.3'].isnull()),['dan.3']]=1"
   ]
  },
  {
   "cell_type": "code",
   "execution_count": 687,
   "metadata": {},
   "outputs": [],
   "source": [
    "# set value for month of relapse to 4 for patients with year of relaps\n",
    "df.loc[(df['leto relapsa'].notnull())&(df['mesec.3'].isnull()),['mesec.3']]=4"
   ]
  },
  {
   "cell_type": "code",
   "execution_count": 688,
   "metadata": {},
   "outputs": [],
   "source": [
    "#transform day of relaps to string\n",
    "df.loc[df['leto relapsa'].notnull(),['dan.3']]=df.loc[df['leto relapsa'].notnull()]['dan.3'].astype('int').apply(str)"
   ]
  },
  {
   "cell_type": "code",
   "execution_count": 689,
   "metadata": {},
   "outputs": [],
   "source": [
    "#transform month of relaps to string\n",
    "df.loc[df['leto relapsa'].notnull(),['mesec.3']]=df.loc[df['leto relapsa'].notnull()]['mesec.3'].astype('int').apply(str)"
   ]
  },
  {
   "cell_type": "code",
   "execution_count": 690,
   "metadata": {},
   "outputs": [],
   "source": [
    "#transform year of relaps to string\n",
    "df.loc[df['leto relapsa'].notnull(),['leto relapsa']]=df.loc[df['leto relapsa'].notnull()]['leto relapsa'].astype('int').apply(str)"
   ]
  },
  {
   "cell_type": "code",
   "execution_count": 691,
   "metadata": {},
   "outputs": [],
   "source": [
    "#insert new column with date of relaps \n",
    "df.insert(28,'datum relapsa', pd.to_datetime(df['leto relapsa'] + '-' + df['mesec.3'] + '-' + df['dan.3']))"
   ]
  },
  {
   "cell_type": "code",
   "execution_count": 692,
   "metadata": {},
   "outputs": [
    {
     "data": {
      "text/html": [
       "<div>\n",
       "<style scoped>\n",
       "    .dataframe tbody tr th:only-of-type {\n",
       "        vertical-align: middle;\n",
       "    }\n",
       "\n",
       "    .dataframe tbody tr th {\n",
       "        vertical-align: top;\n",
       "    }\n",
       "\n",
       "    .dataframe thead th {\n",
       "        text-align: right;\n",
       "    }\n",
       "</style>\n",
       "<table border=\"1\" class=\"dataframe\">\n",
       "  <thead>\n",
       "    <tr style=\"text-align: right;\">\n",
       "      <th></th>\n",
       "      <th>zap st</th>\n",
       "      <th>dan</th>\n",
       "      <th>mesec</th>\n",
       "      <th>leto roj</th>\n",
       "      <th>rojen</th>\n",
       "      <th>dan.1</th>\n",
       "      <th>mesec.1</th>\n",
       "      <th>leto dg</th>\n",
       "      <th>diagnoza</th>\n",
       "      <th>age at diganosis</th>\n",
       "      <th>...</th>\n",
       "      <th>RT ob relapsu</th>\n",
       "      <th>dan.2</th>\n",
       "      <th>mesec.2</th>\n",
       "      <th>leto smrti</th>\n",
       "      <th>datum smrti</th>\n",
       "      <th>status</th>\n",
       "      <th>dan.3</th>\n",
       "      <th>mesec.3</th>\n",
       "      <th>leto relapsa</th>\n",
       "      <th>datum relapsa</th>\n",
       "    </tr>\n",
       "  </thead>\n",
       "  <tbody>\n",
       "    <tr>\n",
       "      <th>0</th>\n",
       "      <td>MB</td>\n",
       "      <td>11</td>\n",
       "      <td>2</td>\n",
       "      <td>1985</td>\n",
       "      <td>1985-02-11</td>\n",
       "      <td>7</td>\n",
       "      <td>2</td>\n",
       "      <td>2000</td>\n",
       "      <td>2000-02-07</td>\n",
       "      <td>14.99</td>\n",
       "      <td>...</td>\n",
       "      <td>1.0</td>\n",
       "      <td>4</td>\n",
       "      <td>12</td>\n",
       "      <td>2000</td>\n",
       "      <td>2000-12-04</td>\n",
       "      <td>2</td>\n",
       "      <td>1</td>\n",
       "      <td>11</td>\n",
       "      <td>2000</td>\n",
       "      <td>2000-11-01</td>\n",
       "    </tr>\n",
       "    <tr>\n",
       "      <th>1</th>\n",
       "      <td>KGP</td>\n",
       "      <td>30</td>\n",
       "      <td>7</td>\n",
       "      <td>1990</td>\n",
       "      <td>1990-07-30</td>\n",
       "      <td>27</td>\n",
       "      <td>2</td>\n",
       "      <td>2001</td>\n",
       "      <td>2001-02-27</td>\n",
       "      <td>10.58</td>\n",
       "      <td>...</td>\n",
       "      <td>NaN</td>\n",
       "      <td>25</td>\n",
       "      <td>8</td>\n",
       "      <td>2001</td>\n",
       "      <td>2001-08-25</td>\n",
       "      <td>2</td>\n",
       "      <td>NaN</td>\n",
       "      <td>NaN</td>\n",
       "      <td>NaN</td>\n",
       "      <td>NaT</td>\n",
       "    </tr>\n",
       "    <tr>\n",
       "      <th>2</th>\n",
       "      <td>KM</td>\n",
       "      <td>23</td>\n",
       "      <td>12</td>\n",
       "      <td>1993</td>\n",
       "      <td>1993-12-23</td>\n",
       "      <td>9</td>\n",
       "      <td>5</td>\n",
       "      <td>2001</td>\n",
       "      <td>2001-05-09</td>\n",
       "      <td>7.38</td>\n",
       "      <td>...</td>\n",
       "      <td>NaN</td>\n",
       "      <td>NaN</td>\n",
       "      <td>NaN</td>\n",
       "      <td>NaN</td>\n",
       "      <td>NaT</td>\n",
       "      <td>1</td>\n",
       "      <td>NaN</td>\n",
       "      <td>NaN</td>\n",
       "      <td>NaN</td>\n",
       "      <td>NaT</td>\n",
       "    </tr>\n",
       "    <tr>\n",
       "      <th>3</th>\n",
       "      <td>SN</td>\n",
       "      <td>20</td>\n",
       "      <td>9</td>\n",
       "      <td>1999</td>\n",
       "      <td>1999-09-20</td>\n",
       "      <td>20</td>\n",
       "      <td>10</td>\n",
       "      <td>2001</td>\n",
       "      <td>2001-10-20</td>\n",
       "      <td>2.08</td>\n",
       "      <td>...</td>\n",
       "      <td>2.0</td>\n",
       "      <td>8</td>\n",
       "      <td>1</td>\n",
       "      <td>2004</td>\n",
       "      <td>2004-01-08</td>\n",
       "      <td>2</td>\n",
       "      <td>1</td>\n",
       "      <td>9</td>\n",
       "      <td>2003</td>\n",
       "      <td>2003-09-01</td>\n",
       "    </tr>\n",
       "    <tr>\n",
       "      <th>4</th>\n",
       "      <td>KK</td>\n",
       "      <td>15</td>\n",
       "      <td>12</td>\n",
       "      <td>1996</td>\n",
       "      <td>1996-12-15</td>\n",
       "      <td>1</td>\n",
       "      <td>2</td>\n",
       "      <td>2002</td>\n",
       "      <td>2002-02-01</td>\n",
       "      <td>5.13</td>\n",
       "      <td>...</td>\n",
       "      <td>NaN</td>\n",
       "      <td>NaN</td>\n",
       "      <td>NaN</td>\n",
       "      <td>NaN</td>\n",
       "      <td>NaT</td>\n",
       "      <td>1</td>\n",
       "      <td>NaN</td>\n",
       "      <td>NaN</td>\n",
       "      <td>NaN</td>\n",
       "      <td>NaT</td>\n",
       "    </tr>\n",
       "    <tr>\n",
       "      <th>5</th>\n",
       "      <td>ST</td>\n",
       "      <td>19</td>\n",
       "      <td>9</td>\n",
       "      <td>1986</td>\n",
       "      <td>1986-09-19</td>\n",
       "      <td>5</td>\n",
       "      <td>8</td>\n",
       "      <td>2002</td>\n",
       "      <td>2002-08-05</td>\n",
       "      <td>15.88</td>\n",
       "      <td>...</td>\n",
       "      <td>NaN</td>\n",
       "      <td>NaN</td>\n",
       "      <td>NaN</td>\n",
       "      <td>NaN</td>\n",
       "      <td>NaT</td>\n",
       "      <td>1</td>\n",
       "      <td>NaN</td>\n",
       "      <td>NaN</td>\n",
       "      <td>NaN</td>\n",
       "      <td>NaT</td>\n",
       "    </tr>\n",
       "    <tr>\n",
       "      <th>6</th>\n",
       "      <td>HZ</td>\n",
       "      <td>3</td>\n",
       "      <td>4</td>\n",
       "      <td>2002</td>\n",
       "      <td>2002-04-03</td>\n",
       "      <td>14</td>\n",
       "      <td>2</td>\n",
       "      <td>2003</td>\n",
       "      <td>2003-02-14</td>\n",
       "      <td>0.87</td>\n",
       "      <td>...</td>\n",
       "      <td>2.0</td>\n",
       "      <td>NaN</td>\n",
       "      <td>NaN</td>\n",
       "      <td>NaN</td>\n",
       "      <td>NaT</td>\n",
       "      <td>1</td>\n",
       "      <td>1</td>\n",
       "      <td>2</td>\n",
       "      <td>2004</td>\n",
       "      <td>2004-02-01</td>\n",
       "    </tr>\n",
       "    <tr>\n",
       "      <th>7</th>\n",
       "      <td>MM</td>\n",
       "      <td>27</td>\n",
       "      <td>1</td>\n",
       "      <td>1992</td>\n",
       "      <td>1992-01-27</td>\n",
       "      <td>27</td>\n",
       "      <td>10</td>\n",
       "      <td>2003</td>\n",
       "      <td>2003-10-27</td>\n",
       "      <td>11.75</td>\n",
       "      <td>...</td>\n",
       "      <td>NaN</td>\n",
       "      <td>NaN</td>\n",
       "      <td>NaN</td>\n",
       "      <td>NaN</td>\n",
       "      <td>NaT</td>\n",
       "      <td>1</td>\n",
       "      <td>NaN</td>\n",
       "      <td>NaN</td>\n",
       "      <td>NaN</td>\n",
       "      <td>NaT</td>\n",
       "    </tr>\n",
       "    <tr>\n",
       "      <th>8</th>\n",
       "      <td>ZI</td>\n",
       "      <td>6</td>\n",
       "      <td>11</td>\n",
       "      <td>1985</td>\n",
       "      <td>1985-11-06</td>\n",
       "      <td>3</td>\n",
       "      <td>10</td>\n",
       "      <td>2003</td>\n",
       "      <td>2003-10-03</td>\n",
       "      <td>17.91</td>\n",
       "      <td>...</td>\n",
       "      <td>2.0</td>\n",
       "      <td>24</td>\n",
       "      <td>5</td>\n",
       "      <td>2004</td>\n",
       "      <td>2004-05-24</td>\n",
       "      <td>2</td>\n",
       "      <td>1</td>\n",
       "      <td>3</td>\n",
       "      <td>2004</td>\n",
       "      <td>2004-03-01</td>\n",
       "    </tr>\n",
       "    <tr>\n",
       "      <th>9</th>\n",
       "      <td>KK</td>\n",
       "      <td>22</td>\n",
       "      <td>12</td>\n",
       "      <td>1988</td>\n",
       "      <td>1988-12-22</td>\n",
       "      <td>6</td>\n",
       "      <td>1</td>\n",
       "      <td>2005</td>\n",
       "      <td>2005-01-06</td>\n",
       "      <td>16.04</td>\n",
       "      <td>...</td>\n",
       "      <td>NaN</td>\n",
       "      <td>NaN</td>\n",
       "      <td>NaN</td>\n",
       "      <td>NaN</td>\n",
       "      <td>NaT</td>\n",
       "      <td>1</td>\n",
       "      <td>NaN</td>\n",
       "      <td>NaN</td>\n",
       "      <td>NaN</td>\n",
       "      <td>NaT</td>\n",
       "    </tr>\n",
       "  </tbody>\n",
       "</table>\n",
       "<p>10 rows × 29 columns</p>\n",
       "</div>"
      ],
      "text/plain": [
       "  zap st dan mesec leto roj      rojen dan.1 mesec.1 leto dg   diagnoza  \\\n",
       "0     MB  11     2     1985 1985-02-11     7       2    2000 2000-02-07   \n",
       "1    KGP  30     7     1990 1990-07-30    27       2    2001 2001-02-27   \n",
       "2     KM  23    12     1993 1993-12-23     9       5    2001 2001-05-09   \n",
       "3     SN  20     9     1999 1999-09-20    20      10    2001 2001-10-20   \n",
       "4     KK  15    12     1996 1996-12-15     1       2    2002 2002-02-01   \n",
       "5     ST  19     9     1986 1986-09-19     5       8    2002 2002-08-05   \n",
       "6     HZ   3     4     2002 2002-04-03    14       2    2003 2003-02-14   \n",
       "7     MM  27     1     1992 1992-01-27    27      10    2003 2003-10-27   \n",
       "8     ZI   6    11     1985 1985-11-06     3      10    2003 2003-10-03   \n",
       "9     KK  22    12     1988 1988-12-22     6       1    2005 2005-01-06   \n",
       "\n",
       "   age at diganosis  ... RT ob relapsu  dan.2 mesec.2 leto smrti datum smrti  \\\n",
       "0             14.99  ...           1.0      4      12       2000  2000-12-04   \n",
       "1             10.58  ...           NaN     25       8       2001  2001-08-25   \n",
       "2              7.38  ...           NaN    NaN     NaN        NaN         NaT   \n",
       "3              2.08  ...           2.0      8       1       2004  2004-01-08   \n",
       "4              5.13  ...           NaN    NaN     NaN        NaN         NaT   \n",
       "5             15.88  ...           NaN    NaN     NaN        NaN         NaT   \n",
       "6              0.87  ...           2.0    NaN     NaN        NaN         NaT   \n",
       "7             11.75  ...           NaN    NaN     NaN        NaN         NaT   \n",
       "8             17.91  ...           2.0     24       5       2004  2004-05-24   \n",
       "9             16.04  ...           NaN    NaN     NaN        NaN         NaT   \n",
       "\n",
       "  status dan.3 mesec.3 leto relapsa  datum relapsa  \n",
       "0      2     1      11         2000     2000-11-01  \n",
       "1      2   NaN     NaN          NaN            NaT  \n",
       "2      1   NaN     NaN          NaN            NaT  \n",
       "3      2     1       9         2003     2003-09-01  \n",
       "4      1   NaN     NaN          NaN            NaT  \n",
       "5      1   NaN     NaN          NaN            NaT  \n",
       "6      1     1       2         2004     2004-02-01  \n",
       "7      1   NaN     NaN          NaN            NaT  \n",
       "8      2     1       3         2004     2004-03-01  \n",
       "9      1   NaN     NaN          NaN            NaT  \n",
       "\n",
       "[10 rows x 29 columns]"
      ]
     },
     "execution_count": 692,
     "metadata": {},
     "output_type": "execute_result"
    }
   ],
   "source": [
    "df.head(10)"
   ]
  },
  {
   "cell_type": "code",
   "execution_count": null,
   "metadata": {},
   "outputs": [],
   "source": []
  },
  {
   "cell_type": "markdown",
   "metadata": {},
   "source": [
    "## Kaplan Meier survival analysis"
   ]
  },
  {
   "cell_type": "markdown",
   "metadata": {},
   "source": [
    "https://lifelines.readthedocs.io/en/latest/Quickstart.html"
   ]
  },
  {
   "cell_type": "code",
   "execution_count": 693,
   "metadata": {},
   "outputs": [
    {
     "data": {
      "text/plain": [
       "101"
      ]
     },
     "execution_count": 693,
     "metadata": {},
     "output_type": "execute_result"
    }
   ],
   "source": [
    "df['diagnoza']\n",
    "df['datum smrti'].isna().sum()"
   ]
  },
  {
   "cell_type": "code",
   "execution_count": 694,
   "metadata": {},
   "outputs": [],
   "source": [
    "from lifelines.utils import datetimes_to_durations\n",
    "start_dates = df['diagnoza']\n",
    "end_dates = df['datum smrti']\n",
    "#https://lifelines.readthedocs.io/en/latest/lifelines.utils.html#lifelines.utils.datetimes_to_durations\n",
    "#\n",
    "T, E = datetimes_to_durations(start_dates, end_dates, freq=\"Y\")\n"
   ]
  },
  {
   "cell_type": "code",
   "execution_count": 695,
   "metadata": {},
   "outputs": [
    {
     "data": {
      "text/html": [
       "<div>\n",
       "<style scoped>\n",
       "    .dataframe tbody tr th:only-of-type {\n",
       "        vertical-align: middle;\n",
       "    }\n",
       "\n",
       "    .dataframe tbody tr th {\n",
       "        vertical-align: top;\n",
       "    }\n",
       "\n",
       "    .dataframe thead th {\n",
       "        text-align: right;\n",
       "    }\n",
       "</style>\n",
       "<table border=\"1\" class=\"dataframe\">\n",
       "  <thead>\n",
       "    <tr style=\"text-align: right;\">\n",
       "      <th></th>\n",
       "      <th>zap st</th>\n",
       "      <th>dan</th>\n",
       "      <th>mesec</th>\n",
       "      <th>leto roj</th>\n",
       "      <th>rojen</th>\n",
       "      <th>dan.1</th>\n",
       "      <th>mesec.1</th>\n",
       "      <th>leto dg</th>\n",
       "      <th>diagnoza</th>\n",
       "      <th>age at diganosis</th>\n",
       "      <th>...</th>\n",
       "      <th>RT ob relapsu</th>\n",
       "      <th>dan.2</th>\n",
       "      <th>mesec.2</th>\n",
       "      <th>leto smrti</th>\n",
       "      <th>datum smrti</th>\n",
       "      <th>status</th>\n",
       "      <th>dan.3</th>\n",
       "      <th>mesec.3</th>\n",
       "      <th>leto relapsa</th>\n",
       "      <th>datum relapsa</th>\n",
       "    </tr>\n",
       "  </thead>\n",
       "  <tbody>\n",
       "    <tr>\n",
       "      <th>118</th>\n",
       "      <td>67</td>\n",
       "      <td>23</td>\n",
       "      <td>3</td>\n",
       "      <td>1999</td>\n",
       "      <td>1999-03-23</td>\n",
       "      <td>17</td>\n",
       "      <td>6</td>\n",
       "      <td>2001</td>\n",
       "      <td>2001-06-17</td>\n",
       "      <td>2.24</td>\n",
       "      <td>...</td>\n",
       "      <td>1.0</td>\n",
       "      <td>1</td>\n",
       "      <td>4</td>\n",
       "      <td>2001</td>\n",
       "      <td>2001-04-01</td>\n",
       "      <td>2</td>\n",
       "      <td>1</td>\n",
       "      <td>12</td>\n",
       "      <td>2001</td>\n",
       "      <td>2001-12-01</td>\n",
       "    </tr>\n",
       "    <tr>\n",
       "      <th>169</th>\n",
       "      <td>IRAF</td>\n",
       "      <td>12</td>\n",
       "      <td>11</td>\n",
       "      <td>2012</td>\n",
       "      <td>2012-11-12</td>\n",
       "      <td>1</td>\n",
       "      <td>5</td>\n",
       "      <td>2014</td>\n",
       "      <td>2014-05-01</td>\n",
       "      <td>1.46</td>\n",
       "      <td>...</td>\n",
       "      <td>NaN</td>\n",
       "      <td>1</td>\n",
       "      <td>4</td>\n",
       "      <td>2014</td>\n",
       "      <td>2014-04-01</td>\n",
       "      <td>2</td>\n",
       "      <td>NaN</td>\n",
       "      <td>NaN</td>\n",
       "      <td>NaN</td>\n",
       "      <td>NaT</td>\n",
       "    </tr>\n",
       "  </tbody>\n",
       "</table>\n",
       "<p>2 rows × 29 columns</p>\n",
       "</div>"
      ],
      "text/plain": [
       "    zap st dan mesec leto roj      rojen dan.1 mesec.1 leto dg   diagnoza  \\\n",
       "118     67  23     3     1999 1999-03-23    17       6    2001 2001-06-17   \n",
       "169   IRAF  12    11     2012 2012-11-12     1       5    2014 2014-05-01   \n",
       "\n",
       "     age at diganosis  ... RT ob relapsu  dan.2 mesec.2 leto smrti  \\\n",
       "118              2.24  ...           1.0      1       4       2001   \n",
       "169              1.46  ...           NaN      1       4       2014   \n",
       "\n",
       "    datum smrti status dan.3 mesec.3 leto relapsa  datum relapsa  \n",
       "118  2001-04-01      2     1      12         2001     2001-12-01  \n",
       "169  2014-04-01      2   NaN     NaN          NaN            NaT  \n",
       "\n",
       "[2 rows x 29 columns]"
      ]
     },
     "execution_count": 695,
     "metadata": {},
     "output_type": "execute_result"
    }
   ],
   "source": [
    "df[df['diagnoza']>df['datum smrti']]"
   ]
  },
  {
   "cell_type": "code",
   "execution_count": null,
   "metadata": {},
   "outputs": [],
   "source": []
  },
  {
   "cell_type": "code",
   "execution_count": 696,
   "metadata": {},
   "outputs": [
    {
     "data": {
      "text/plain": [
       "<lifelines.KaplanMeierFitter: fitted with 169 observations, 101 censored>"
      ]
     },
     "execution_count": 696,
     "metadata": {},
     "output_type": "execute_result"
    }
   ],
   "source": [
    "from lifelines import KaplanMeierFitter\n",
    "kmf = KaplanMeierFitter()\n",
    "kmf.fit(T, event_observed=E)  # or, more succinctly, kmf.fit(T, E)"
   ]
  },
  {
   "cell_type": "code",
   "execution_count": null,
   "metadata": {},
   "outputs": [],
   "source": []
  },
  {
   "cell_type": "code",
   "execution_count": 697,
   "metadata": {},
   "outputs": [
    {
     "data": {
      "image/png": "[encoded data removed]",
      "text/plain": [
       "<Figure size 432x288 with 1 Axes>"
      ]
     },
     "metadata": {
      "needs_background": "light"
     },
     "output_type": "display_data"
    }
   ],
   "source": [
    "kmf.survival_function_\n",
    "kmf.survival_function_.plot()\n",
    "plt.title('Survival function for oncological pediatric patients (timeline in years)');"
   ]
  },
  {
   "cell_type": "markdown",
   "metadata": {},
   "source": [
    "How do we interpret this? The y-axis represents the probability a patient is still around after t years, where t years is on the x-axis. "
   ]
  },
  {
   "cell_type": "code",
   "execution_count": 698,
   "metadata": {},
   "outputs": [
    {
     "data": {
      "text/plain": [
       "<matplotlib.axes._subplots.AxesSubplot at 0x22887d2ff60>"
      ]
     },
     "execution_count": 698,
     "metadata": {},
     "output_type": "execute_result"
    },
    {
     "data": {
      "image/png": "[encoded data removed]",
      "text/plain": [
       "<Figure size 432x288 with 1 Axes>"
      ]
     },
     "metadata": {
      "needs_background": "light"
     },
     "output_type": "display_data"
    }
   ],
   "source": [
    "kmf.plot()"
   ]
  },
  {
   "cell_type": "markdown",
   "metadata": {},
   "source": [
    "The band shows how uncertain we are about these point estimates, i.e., the confidence intervals. "
   ]
  },
  {
   "cell_type": "code",
   "execution_count": 699,
   "metadata": {},
   "outputs": [
    {
     "data": {
      "text/html": [
       "<div>\n",
       "<style scoped>\n",
       "    .dataframe tbody tr th:only-of-type {\n",
       "        vertical-align: middle;\n",
       "    }\n",
       "\n",
       "    .dataframe tbody tr th {\n",
       "        vertical-align: top;\n",
       "    }\n",
       "\n",
       "    .dataframe thead th {\n",
       "        text-align: right;\n",
       "    }\n",
       "</style>\n",
       "<table border=\"1\" class=\"dataframe\">\n",
       "  <thead>\n",
       "    <tr style=\"text-align: right;\">\n",
       "      <th></th>\n",
       "      <th>KM_estimate_upper_0.95</th>\n",
       "      <th>KM_estimate_lower_0.95</th>\n",
       "    </tr>\n",
       "  </thead>\n",
       "  <tbody>\n",
       "    <tr>\n",
       "      <th>-1.0</th>\n",
       "      <td>0.997027</td>\n",
       "      <td>0.953514</td>\n",
       "    </tr>\n",
       "    <tr>\n",
       "      <th>0.0</th>\n",
       "      <td>0.882492</td>\n",
       "      <td>0.769143</td>\n",
       "    </tr>\n",
       "    <tr>\n",
       "      <th>1.0</th>\n",
       "      <td>0.799170</td>\n",
       "      <td>0.666501</td>\n",
       "    </tr>\n",
       "    <tr>\n",
       "      <th>2.0</th>\n",
       "      <td>0.717448</td>\n",
       "      <td>0.573883</td>\n",
       "    </tr>\n",
       "    <tr>\n",
       "      <th>3.0</th>\n",
       "      <td>0.683446</td>\n",
       "      <td>0.536843</td>\n",
       "    </tr>\n",
       "    <tr>\n",
       "      <th>4.0</th>\n",
       "      <td>0.665990</td>\n",
       "      <td>0.518061</td>\n",
       "    </tr>\n",
       "    <tr>\n",
       "      <th>5.0</th>\n",
       "      <td>0.665990</td>\n",
       "      <td>0.518061</td>\n",
       "    </tr>\n",
       "    <tr>\n",
       "      <th>6.0</th>\n",
       "      <td>0.665990</td>\n",
       "      <td>0.518061</td>\n",
       "    </tr>\n",
       "    <tr>\n",
       "      <th>7.0</th>\n",
       "      <td>0.665990</td>\n",
       "      <td>0.518061</td>\n",
       "    </tr>\n",
       "    <tr>\n",
       "      <th>8.0</th>\n",
       "      <td>0.665990</td>\n",
       "      <td>0.518061</td>\n",
       "    </tr>\n",
       "    <tr>\n",
       "      <th>9.0</th>\n",
       "      <td>0.665990</td>\n",
       "      <td>0.518061</td>\n",
       "    </tr>\n",
       "    <tr>\n",
       "      <th>10.0</th>\n",
       "      <td>0.665990</td>\n",
       "      <td>0.518061</td>\n",
       "    </tr>\n",
       "    <tr>\n",
       "      <th>11.0</th>\n",
       "      <td>0.665990</td>\n",
       "      <td>0.518061</td>\n",
       "    </tr>\n",
       "    <tr>\n",
       "      <th>12.0</th>\n",
       "      <td>0.665990</td>\n",
       "      <td>0.518061</td>\n",
       "    </tr>\n",
       "    <tr>\n",
       "      <th>13.0</th>\n",
       "      <td>0.665990</td>\n",
       "      <td>0.518061</td>\n",
       "    </tr>\n",
       "    <tr>\n",
       "      <th>14.0</th>\n",
       "      <td>0.665990</td>\n",
       "      <td>0.518061</td>\n",
       "    </tr>\n",
       "    <tr>\n",
       "      <th>15.0</th>\n",
       "      <td>0.665990</td>\n",
       "      <td>0.518061</td>\n",
       "    </tr>\n",
       "    <tr>\n",
       "      <th>16.0</th>\n",
       "      <td>0.665990</td>\n",
       "      <td>0.518061</td>\n",
       "    </tr>\n",
       "    <tr>\n",
       "      <th>17.0</th>\n",
       "      <td>0.665990</td>\n",
       "      <td>0.518061</td>\n",
       "    </tr>\n",
       "    <tr>\n",
       "      <th>18.0</th>\n",
       "      <td>0.665990</td>\n",
       "      <td>0.518061</td>\n",
       "    </tr>\n",
       "    <tr>\n",
       "      <th>19.0</th>\n",
       "      <td>0.665990</td>\n",
       "      <td>0.518061</td>\n",
       "    </tr>\n",
       "    <tr>\n",
       "      <th>20.0</th>\n",
       "      <td>0.665990</td>\n",
       "      <td>0.518061</td>\n",
       "    </tr>\n",
       "  </tbody>\n",
       "</table>\n",
       "</div>"
      ],
      "text/plain": [
       "       KM_estimate_upper_0.95  KM_estimate_lower_0.95\n",
       "-1.0                 0.997027                0.953514\n",
       " 0.0                 0.882492                0.769143\n",
       " 1.0                 0.799170                0.666501\n",
       " 2.0                 0.717448                0.573883\n",
       " 3.0                 0.683446                0.536843\n",
       " 4.0                 0.665990                0.518061\n",
       " 5.0                 0.665990                0.518061\n",
       " 6.0                 0.665990                0.518061\n",
       " 7.0                 0.665990                0.518061\n",
       " 8.0                 0.665990                0.518061\n",
       " 9.0                 0.665990                0.518061\n",
       " 10.0                0.665990                0.518061\n",
       " 11.0                0.665990                0.518061\n",
       " 12.0                0.665990                0.518061\n",
       " 13.0                0.665990                0.518061\n",
       " 14.0                0.665990                0.518061\n",
       " 15.0                0.665990                0.518061\n",
       " 16.0                0.665990                0.518061\n",
       " 17.0                0.665990                0.518061\n",
       " 18.0                0.665990                0.518061\n",
       " 19.0                0.665990                0.518061\n",
       " 20.0                0.665990                0.518061"
      ]
     },
     "execution_count": 699,
     "metadata": {},
     "output_type": "execute_result"
    }
   ],
   "source": [
    "#how uncertain we are about these point estimates, i.e., we need confidence intervals (CI)\n",
    "\n",
    "kmf.confidence_interval_"
   ]
  },
  {
   "cell_type": "code",
   "execution_count": 700,
   "metadata": {},
   "outputs": [
    {
     "name": "stdout",
     "output_type": "stream",
     "text": [
      "          KM_estimate\n",
      "timeline             \n",
      "-1.0         0.988166\n",
      " 0.0         0.834320\n",
      " 1.0         0.739645\n",
      " 2.0         0.650888\n",
      " 3.0         0.614727\n",
      " 4.0         0.596285\n",
      " 5.0         0.596285\n",
      " 6.0         0.596285\n",
      " 7.0         0.596285\n",
      " 8.0         0.596285\n",
      " 9.0         0.596285\n",
      " 10.0        0.596285\n",
      " 11.0        0.596285\n",
      " 12.0        0.596285\n",
      " 13.0        0.596285\n",
      " 14.0        0.596285\n",
      " 15.0        0.596285\n",
      " 16.0        0.596285\n",
      " 17.0        0.596285\n",
      " 18.0        0.596285\n",
      " 19.0        0.596285\n",
      " 20.0        0.596285\n"
     ]
    }
   ],
   "source": [
    "print(kmf.survival_function_)"
   ]
  },
  {
   "cell_type": "markdown",
   "metadata": {},
   "source": [
    "### That is, we estimate the probability of a new patient 5 year survival is   59.6285%  and we are 95% confident that the true probability is between 51.8061% and 66.5990%."
   ]
  },
  {
   "cell_type": "code",
   "execution_count": 701,
   "metadata": {},
   "outputs": [
    {
     "data": {
      "text/plain": [
       "5.0"
      ]
     },
     "execution_count": 701,
     "metadata": {},
     "output_type": "execute_result"
    }
   ],
   "source": [
    "# we defined time as the difference between today's date and diagnosys date\n",
    "# time is in years\n",
    "# most frequent observation period\n",
    "np.median(T)"
   ]
  },
  {
   "cell_type": "code",
   "execution_count": 702,
   "metadata": {},
   "outputs": [
    {
     "data": {
      "text/plain": [
       "6.9171597633136095"
      ]
     },
     "execution_count": 702,
     "metadata": {},
     "output_type": "execute_result"
    }
   ],
   "source": [
    "# mean/average observation period\n",
    "np.mean(T)"
   ]
  },
  {
   "cell_type": "code",
   "execution_count": 703,
   "metadata": {},
   "outputs": [
    {
     "data": {
      "text/plain": [
       "6.2259431626394175"
      ]
     },
     "execution_count": 703,
     "metadata": {},
     "output_type": "execute_result"
    }
   ],
   "source": [
    "# standard deviation for observation period\n",
    "np.std(T)"
   ]
  },
  {
   "cell_type": "code",
   "execution_count": 704,
   "metadata": {},
   "outputs": [
    {
     "data": {
      "text/plain": [
       "-1.0"
      ]
     },
     "execution_count": 704,
     "metadata": {},
     "output_type": "execute_result"
    }
   ],
   "source": [
    "# minimum observation period\n",
    "np.min(T)"
   ]
  },
  {
   "cell_type": "code",
   "execution_count": 705,
   "metadata": {},
   "outputs": [
    {
     "data": {
      "text/plain": [
       "20.0"
      ]
     },
     "execution_count": 705,
     "metadata": {},
     "output_type": "execute_result"
    }
   ],
   "source": [
    "#maximum observation period\n",
    "np.max(T)"
   ]
  },
  {
   "cell_type": "code",
   "execution_count": 706,
   "metadata": {},
   "outputs": [
    {
     "name": "stdout",
     "output_type": "stream",
     "text": [
      "          removed  observed  censored  entrance  at_risk\n",
      "event_at                                                \n",
      "-1.0            2         2         0       169      169\n",
      " 0.0           26        26         0         0      167\n",
      " 1.0           16        16         0         0      141\n",
      " 2.0           17        15         2         0      125\n",
      " 3.0            8         6         2         0      108\n",
      " 4.0            9         3         6         0      100\n",
      " 5.0            8         0         8         0       91\n",
      " 6.0            8         0         8         0       83\n",
      " 7.0            8         0         8         0       75\n",
      " 8.0            7         0         7         0       67\n",
      " 9.0            6         0         6         0       60\n",
      " 10.0           5         0         5         0       54\n",
      " 11.0           5         0         5         0       49\n",
      " 12.0           1         0         1         0       44\n",
      " 13.0           7         0         7         0       43\n",
      " 14.0           7         0         7         0       36\n",
      " 15.0           4         0         4         0       29\n",
      " 16.0           7         0         7         0       25\n",
      " 17.0           3         0         3         0       18\n",
      " 18.0           8         0         8         0       15\n",
      " 19.0           6         0         6         0        7\n",
      " 20.0           1         0         1         0        1\n"
     ]
    }
   ],
   "source": [
    "from lifelines.utils import survival_table_from_events\n",
    "\n",
    "table = survival_table_from_events(T, E)\n",
    "print(table)"
   ]
  },
  {
   "cell_type": "markdown",
   "metadata": {},
   "source": [
    "## Segmenting survival rate for different locations (mesto)"
   ]
  },
  {
   "cell_type": "code",
   "execution_count": 707,
   "metadata": {},
   "outputs": [
    {
     "data": {
      "image/png": "[encoded data removed]",
      "text/plain": [
       "<Figure size 432x288 with 1 Axes>"
      ]
     },
     "metadata": {
      "needs_background": "light"
     },
     "output_type": "display_data"
    }
   ],
   "source": [
    "ax = plt.subplot(111)\n",
    "\n",
    "mesto = (df[\"mesto\"] == 1)\n",
    "\n",
    "kmf.fit(T[mesto], event_observed=E[mesto], label=\"H/N\")\n",
    "kmf.plot(ax=ax)\n",
    "\n",
    "plt.ylim(0, 1);\n",
    "\n",
    "plt.title(\"Survival in years for mesto=H/N vs other\");\n",
    "\n",
    "\n"
   ]
  },
  {
   "cell_type": "code",
   "execution_count": 708,
   "metadata": {},
   "outputs": [
    {
     "data": {
      "text/html": [
       "<div>\n",
       "<style scoped>\n",
       "    .dataframe tbody tr th:only-of-type {\n",
       "        vertical-align: middle;\n",
       "    }\n",
       "\n",
       "    .dataframe tbody tr th {\n",
       "        vertical-align: top;\n",
       "    }\n",
       "\n",
       "    .dataframe thead th {\n",
       "        text-align: right;\n",
       "    }\n",
       "</style>\n",
       "<table border=\"1\" class=\"dataframe\">\n",
       "  <thead>\n",
       "    <tr style=\"text-align: right;\">\n",
       "      <th></th>\n",
       "      <th>H/N_upper_0.95</th>\n",
       "      <th>H/N_lower_0.95</th>\n",
       "    </tr>\n",
       "  </thead>\n",
       "  <tbody>\n",
       "    <tr>\n",
       "      <th>0.0</th>\n",
       "      <td>0.902833</td>\n",
       "      <td>0.370787</td>\n",
       "    </tr>\n",
       "    <tr>\n",
       "      <th>1.0</th>\n",
       "      <td>0.845163</td>\n",
       "      <td>0.296892</td>\n",
       "    </tr>\n",
       "    <tr>\n",
       "      <th>2.0</th>\n",
       "      <td>0.779648</td>\n",
       "      <td>0.228545</td>\n",
       "    </tr>\n",
       "    <tr>\n",
       "      <th>4.0</th>\n",
       "      <td>0.779648</td>\n",
       "      <td>0.228545</td>\n",
       "    </tr>\n",
       "    <tr>\n",
       "      <th>6.0</th>\n",
       "      <td>0.779648</td>\n",
       "      <td>0.228545</td>\n",
       "    </tr>\n",
       "    <tr>\n",
       "      <th>9.0</th>\n",
       "      <td>0.779648</td>\n",
       "      <td>0.228545</td>\n",
       "    </tr>\n",
       "    <tr>\n",
       "      <th>10.0</th>\n",
       "      <td>0.779648</td>\n",
       "      <td>0.228545</td>\n",
       "    </tr>\n",
       "    <tr>\n",
       "      <th>14.0</th>\n",
       "      <td>0.779648</td>\n",
       "      <td>0.228545</td>\n",
       "    </tr>\n",
       "    <tr>\n",
       "      <th>19.0</th>\n",
       "      <td>0.779648</td>\n",
       "      <td>0.228545</td>\n",
       "    </tr>\n",
       "  </tbody>\n",
       "</table>\n",
       "</div>"
      ],
      "text/plain": [
       "      H/N_upper_0.95  H/N_lower_0.95\n",
       "0.0         0.902833        0.370787\n",
       "1.0         0.845163        0.296892\n",
       "2.0         0.779648        0.228545\n",
       "4.0         0.779648        0.228545\n",
       "6.0         0.779648        0.228545\n",
       "9.0         0.779648        0.228545\n",
       "10.0        0.779648        0.228545\n",
       "14.0        0.779648        0.228545\n",
       "19.0        0.779648        0.228545"
      ]
     },
     "execution_count": 708,
     "metadata": {},
     "output_type": "execute_result"
    }
   ],
   "source": [
    "kmf.confidence_interval_\n"
   ]
  },
  {
   "cell_type": "code",
   "execution_count": 709,
   "metadata": {
    "scrolled": true
   },
   "outputs": [
    {
     "name": "stdout",
     "output_type": "stream",
     "text": [
      "               H/N\n",
      "timeline          \n",
      "0.0       0.727273\n",
      "1.0       0.636364\n",
      "2.0       0.545455\n",
      "4.0       0.545455\n",
      "6.0       0.545455\n",
      "9.0       0.545455\n",
      "10.0      0.545455\n",
      "14.0      0.545455\n",
      "19.0      0.545455\n"
     ]
    }
   ],
   "source": [
    "print(kmf.survival_function_)"
   ]
  },
  {
   "cell_type": "code",
   "execution_count": 710,
   "metadata": {},
   "outputs": [
    {
     "data": {
      "image/png": "[encoded data removed]",
      "text/plain": [
       "<Figure size 432x288 with 1 Axes>"
      ]
     },
     "metadata": {
      "needs_background": "light"
     },
     "output_type": "display_data"
    }
   ],
   "source": [
    "ax = plt.subplot(111)\n",
    "\n",
    "mesto = (df[\"mesto\"] == 2)\n",
    "\n",
    "kmf.fit(T[mesto], event_observed=E[mesto], label=\"parameningeal\")\n",
    "kmf.plot(ax=ax)\n",
    "\n",
    "\n",
    "plt.ylim(0, 1);\n",
    "plt.title(\"Survival in years for mesto=parameningeal vs other\");"
   ]
  },
  {
   "cell_type": "code",
   "execution_count": 711,
   "metadata": {},
   "outputs": [
    {
     "data": {
      "text/html": [
       "<div>\n",
       "<style scoped>\n",
       "    .dataframe tbody tr th:only-of-type {\n",
       "        vertical-align: middle;\n",
       "    }\n",
       "\n",
       "    .dataframe tbody tr th {\n",
       "        vertical-align: top;\n",
       "    }\n",
       "\n",
       "    .dataframe thead th {\n",
       "        text-align: right;\n",
       "    }\n",
       "</style>\n",
       "<table border=\"1\" class=\"dataframe\">\n",
       "  <thead>\n",
       "    <tr style=\"text-align: right;\">\n",
       "      <th></th>\n",
       "      <th>parameningeal_upper_0.95</th>\n",
       "      <th>parameningeal_lower_0.95</th>\n",
       "    </tr>\n",
       "  </thead>\n",
       "  <tbody>\n",
       "    <tr>\n",
       "      <th>0.0</th>\n",
       "      <td>0.916570</td>\n",
       "      <td>0.705432</td>\n",
       "    </tr>\n",
       "    <tr>\n",
       "      <th>1.0</th>\n",
       "      <td>0.790135</td>\n",
       "      <td>0.531828</td>\n",
       "    </tr>\n",
       "    <tr>\n",
       "      <th>2.0</th>\n",
       "      <td>0.720369</td>\n",
       "      <td>0.451320</td>\n",
       "    </tr>\n",
       "    <tr>\n",
       "      <th>3.0</th>\n",
       "      <td>0.682189</td>\n",
       "      <td>0.408761</td>\n",
       "    </tr>\n",
       "    <tr>\n",
       "      <th>4.0</th>\n",
       "      <td>0.682189</td>\n",
       "      <td>0.408761</td>\n",
       "    </tr>\n",
       "    <tr>\n",
       "      <th>5.0</th>\n",
       "      <td>0.682189</td>\n",
       "      <td>0.408761</td>\n",
       "    </tr>\n",
       "    <tr>\n",
       "      <th>6.0</th>\n",
       "      <td>0.682189</td>\n",
       "      <td>0.408761</td>\n",
       "    </tr>\n",
       "    <tr>\n",
       "      <th>7.0</th>\n",
       "      <td>0.682189</td>\n",
       "      <td>0.408761</td>\n",
       "    </tr>\n",
       "    <tr>\n",
       "      <th>8.0</th>\n",
       "      <td>0.682189</td>\n",
       "      <td>0.408761</td>\n",
       "    </tr>\n",
       "    <tr>\n",
       "      <th>9.0</th>\n",
       "      <td>0.682189</td>\n",
       "      <td>0.408761</td>\n",
       "    </tr>\n",
       "    <tr>\n",
       "      <th>10.0</th>\n",
       "      <td>0.682189</td>\n",
       "      <td>0.408761</td>\n",
       "    </tr>\n",
       "    <tr>\n",
       "      <th>13.0</th>\n",
       "      <td>0.682189</td>\n",
       "      <td>0.408761</td>\n",
       "    </tr>\n",
       "    <tr>\n",
       "      <th>14.0</th>\n",
       "      <td>0.682189</td>\n",
       "      <td>0.408761</td>\n",
       "    </tr>\n",
       "    <tr>\n",
       "      <th>15.0</th>\n",
       "      <td>0.682189</td>\n",
       "      <td>0.408761</td>\n",
       "    </tr>\n",
       "    <tr>\n",
       "      <th>16.0</th>\n",
       "      <td>0.682189</td>\n",
       "      <td>0.408761</td>\n",
       "    </tr>\n",
       "    <tr>\n",
       "      <th>18.0</th>\n",
       "      <td>0.682189</td>\n",
       "      <td>0.408761</td>\n",
       "    </tr>\n",
       "    <tr>\n",
       "      <th>20.0</th>\n",
       "      <td>0.682189</td>\n",
       "      <td>0.408761</td>\n",
       "    </tr>\n",
       "  </tbody>\n",
       "</table>\n",
       "</div>"
      ],
      "text/plain": [
       "      parameningeal_upper_0.95  parameningeal_lower_0.95\n",
       "0.0                   0.916570                  0.705432\n",
       "1.0                   0.790135                  0.531828\n",
       "2.0                   0.720369                  0.451320\n",
       "3.0                   0.682189                  0.408761\n",
       "4.0                   0.682189                  0.408761\n",
       "5.0                   0.682189                  0.408761\n",
       "6.0                   0.682189                  0.408761\n",
       "7.0                   0.682189                  0.408761\n",
       "8.0                   0.682189                  0.408761\n",
       "9.0                   0.682189                  0.408761\n",
       "10.0                  0.682189                  0.408761\n",
       "13.0                  0.682189                  0.408761\n",
       "14.0                  0.682189                  0.408761\n",
       "15.0                  0.682189                  0.408761\n",
       "16.0                  0.682189                  0.408761\n",
       "18.0                  0.682189                  0.408761\n",
       "20.0                  0.682189                  0.408761"
      ]
     },
     "execution_count": 711,
     "metadata": {},
     "output_type": "execute_result"
    }
   ],
   "source": [
    "kmf.confidence_interval_\n"
   ]
  },
  {
   "cell_type": "code",
   "execution_count": 712,
   "metadata": {
    "scrolled": false
   },
   "outputs": [
    {
     "name": "stdout",
     "output_type": "stream",
     "text": [
      "          parameningeal\n",
      "timeline               \n",
      "0.0            0.840000\n",
      "1.0            0.680000\n",
      "2.0            0.600000\n",
      "3.0            0.557143\n",
      "4.0            0.557143\n",
      "5.0            0.557143\n",
      "6.0            0.557143\n",
      "7.0            0.557143\n",
      "8.0            0.557143\n",
      "9.0            0.557143\n",
      "10.0           0.557143\n",
      "13.0           0.557143\n",
      "14.0           0.557143\n",
      "15.0           0.557143\n",
      "16.0           0.557143\n",
      "18.0           0.557143\n",
      "20.0           0.557143\n"
     ]
    }
   ],
   "source": [
    "print(kmf.survival_function_)"
   ]
  },
  {
   "cell_type": "code",
   "execution_count": 713,
   "metadata": {},
   "outputs": [
    {
     "data": {
      "image/png": "[encoded data removed]",
      "text/plain": [
       "<Figure size 432x288 with 1 Axes>"
      ]
     },
     "metadata": {
      "needs_background": "light"
     },
     "output_type": "display_data"
    }
   ],
   "source": [
    "ax = plt.subplot(111)\n",
    "\n",
    "mesto = (df[\"mesto\"] == 3)\n",
    "\n",
    "kmf.fit(T[mesto], event_observed=E[mesto], label=\"orbita\")\n",
    "kmf.plot(ax=ax)\n",
    "\n",
    "\n",
    "plt.ylim(0, 1);\n",
    "plt.title(\"Survival in years for mesto=orbita vs other\");"
   ]
  },
  {
   "cell_type": "code",
   "execution_count": 714,
   "metadata": {},
   "outputs": [
    {
     "data": {
      "text/html": [
       "<div>\n",
       "<style scoped>\n",
       "    .dataframe tbody tr th:only-of-type {\n",
       "        vertical-align: middle;\n",
       "    }\n",
       "\n",
       "    .dataframe tbody tr th {\n",
       "        vertical-align: top;\n",
       "    }\n",
       "\n",
       "    .dataframe thead th {\n",
       "        text-align: right;\n",
       "    }\n",
       "</style>\n",
       "<table border=\"1\" class=\"dataframe\">\n",
       "  <thead>\n",
       "    <tr style=\"text-align: right;\">\n",
       "      <th></th>\n",
       "      <th>orbita_upper_0.95</th>\n",
       "      <th>orbita_lower_0.95</th>\n",
       "    </tr>\n",
       "  </thead>\n",
       "  <tbody>\n",
       "    <tr>\n",
       "      <th>0.0</th>\n",
       "      <td>0.951162</td>\n",
       "      <td>0.447429</td>\n",
       "    </tr>\n",
       "    <tr>\n",
       "      <th>3.0</th>\n",
       "      <td>0.902833</td>\n",
       "      <td>0.370787</td>\n",
       "    </tr>\n",
       "    <tr>\n",
       "      <th>9.0</th>\n",
       "      <td>0.902833</td>\n",
       "      <td>0.370787</td>\n",
       "    </tr>\n",
       "    <tr>\n",
       "      <th>10.0</th>\n",
       "      <td>0.902833</td>\n",
       "      <td>0.370787</td>\n",
       "    </tr>\n",
       "    <tr>\n",
       "      <th>13.0</th>\n",
       "      <td>0.902833</td>\n",
       "      <td>0.370787</td>\n",
       "    </tr>\n",
       "    <tr>\n",
       "      <th>16.0</th>\n",
       "      <td>0.902833</td>\n",
       "      <td>0.370787</td>\n",
       "    </tr>\n",
       "    <tr>\n",
       "      <th>18.0</th>\n",
       "      <td>0.902833</td>\n",
       "      <td>0.370787</td>\n",
       "    </tr>\n",
       "  </tbody>\n",
       "</table>\n",
       "</div>"
      ],
      "text/plain": [
       "      orbita_upper_0.95  orbita_lower_0.95\n",
       "0.0            0.951162           0.447429\n",
       "3.0            0.902833           0.370787\n",
       "9.0            0.902833           0.370787\n",
       "10.0           0.902833           0.370787\n",
       "13.0           0.902833           0.370787\n",
       "16.0           0.902833           0.370787\n",
       "18.0           0.902833           0.370787"
      ]
     },
     "execution_count": 714,
     "metadata": {},
     "output_type": "execute_result"
    }
   ],
   "source": [
    "kmf.confidence_interval_\n"
   ]
  },
  {
   "cell_type": "code",
   "execution_count": 715,
   "metadata": {},
   "outputs": [
    {
     "name": "stdout",
     "output_type": "stream",
     "text": [
      "            orbita\n",
      "timeline          \n",
      "0.0       0.818182\n",
      "3.0       0.727273\n",
      "9.0       0.727273\n",
      "10.0      0.727273\n",
      "13.0      0.727273\n",
      "16.0      0.727273\n",
      "18.0      0.727273\n"
     ]
    }
   ],
   "source": [
    "print(kmf.survival_function_)"
   ]
  },
  {
   "cell_type": "code",
   "execution_count": 716,
   "metadata": {},
   "outputs": [
    {
     "data": {
      "image/png": "[encoded data removed]",
      "text/plain": [
       "<Figure size 432x288 with 1 Axes>"
      ]
     },
     "metadata": {
      "needs_background": "light"
     },
     "output_type": "display_data"
    }
   ],
   "source": [
    "ax = plt.subplot(111)\n",
    "\n",
    "mesto = (df[\"mesto\"] == 4)\n",
    "\n",
    "kmf.fit(T[mesto], event_observed=E[mesto], label=\"okoncine\")\n",
    "kmf.plot(ax=ax)\n",
    "\n",
    "\n",
    "plt.ylim(0, 1);\n",
    "plt.title(\"Survival in years for mesto=okoncine vs other\");"
   ]
  },
  {
   "cell_type": "code",
   "execution_count": 717,
   "metadata": {},
   "outputs": [
    {
     "name": "stdout",
     "output_type": "stream",
     "text": [
      "          okoncine\n",
      "timeline          \n",
      "0.0       0.823529\n",
      "2.0       0.588235\n",
      "3.0       0.529412\n",
      "4.0       0.470588\n",
      "5.0       0.470588\n",
      "7.0       0.470588\n",
      "9.0       0.470588\n",
      "11.0      0.470588\n",
      "16.0      0.470588\n",
      "17.0      0.470588\n",
      "18.0      0.470588\n"
     ]
    }
   ],
   "source": [
    "print(kmf.survival_function_)"
   ]
  },
  {
   "cell_type": "code",
   "execution_count": 718,
   "metadata": {},
   "outputs": [
    {
     "data": {
      "text/html": [
       "<div>\n",
       "<style scoped>\n",
       "    .dataframe tbody tr th:only-of-type {\n",
       "        vertical-align: middle;\n",
       "    }\n",
       "\n",
       "    .dataframe tbody tr th {\n",
       "        vertical-align: top;\n",
       "    }\n",
       "\n",
       "    .dataframe thead th {\n",
       "        text-align: right;\n",
       "    }\n",
       "</style>\n",
       "<table border=\"1\" class=\"dataframe\">\n",
       "  <thead>\n",
       "    <tr style=\"text-align: right;\">\n",
       "      <th></th>\n",
       "      <th>okoncine_upper_0.95</th>\n",
       "      <th>okoncine_lower_0.95</th>\n",
       "    </tr>\n",
       "  </thead>\n",
       "  <tbody>\n",
       "    <tr>\n",
       "      <th>0.0</th>\n",
       "      <td>0.939405</td>\n",
       "      <td>0.547132</td>\n",
       "    </tr>\n",
       "    <tr>\n",
       "      <th>2.0</th>\n",
       "      <td>0.778200</td>\n",
       "      <td>0.325368</td>\n",
       "    </tr>\n",
       "    <tr>\n",
       "      <th>3.0</th>\n",
       "      <td>0.730267</td>\n",
       "      <td>0.276168</td>\n",
       "    </tr>\n",
       "    <tr>\n",
       "      <th>4.0</th>\n",
       "      <td>0.679678</td>\n",
       "      <td>0.229598</td>\n",
       "    </tr>\n",
       "    <tr>\n",
       "      <th>5.0</th>\n",
       "      <td>0.679678</td>\n",
       "      <td>0.229598</td>\n",
       "    </tr>\n",
       "    <tr>\n",
       "      <th>7.0</th>\n",
       "      <td>0.679678</td>\n",
       "      <td>0.229598</td>\n",
       "    </tr>\n",
       "    <tr>\n",
       "      <th>9.0</th>\n",
       "      <td>0.679678</td>\n",
       "      <td>0.229598</td>\n",
       "    </tr>\n",
       "    <tr>\n",
       "      <th>11.0</th>\n",
       "      <td>0.679678</td>\n",
       "      <td>0.229598</td>\n",
       "    </tr>\n",
       "    <tr>\n",
       "      <th>16.0</th>\n",
       "      <td>0.679678</td>\n",
       "      <td>0.229598</td>\n",
       "    </tr>\n",
       "    <tr>\n",
       "      <th>17.0</th>\n",
       "      <td>0.679678</td>\n",
       "      <td>0.229598</td>\n",
       "    </tr>\n",
       "    <tr>\n",
       "      <th>18.0</th>\n",
       "      <td>0.679678</td>\n",
       "      <td>0.229598</td>\n",
       "    </tr>\n",
       "  </tbody>\n",
       "</table>\n",
       "</div>"
      ],
      "text/plain": [
       "      okoncine_upper_0.95  okoncine_lower_0.95\n",
       "0.0              0.939405             0.547132\n",
       "2.0              0.778200             0.325368\n",
       "3.0              0.730267             0.276168\n",
       "4.0              0.679678             0.229598\n",
       "5.0              0.679678             0.229598\n",
       "7.0              0.679678             0.229598\n",
       "9.0              0.679678             0.229598\n",
       "11.0             0.679678             0.229598\n",
       "16.0             0.679678             0.229598\n",
       "17.0             0.679678             0.229598\n",
       "18.0             0.679678             0.229598"
      ]
     },
     "execution_count": 718,
     "metadata": {},
     "output_type": "execute_result"
    }
   ],
   "source": [
    "kmf.confidence_interval_"
   ]
  },
  {
   "cell_type": "code",
   "execution_count": 719,
   "metadata": {},
   "outputs": [
    {
     "data": {
      "image/png": "[encoded data removed]",
      "text/plain": [
       "<Figure size 432x288 with 1 Axes>"
      ]
     },
     "metadata": {
      "needs_background": "light"
     },
     "output_type": "display_data"
    }
   ],
   "source": [
    "ax = plt.subplot(111)\n",
    "\n",
    "mesto = (df[\"mesto\"] == 5)\n",
    "\n",
    "kmf.fit(T[mesto], event_observed=E[mesto], label=\"toraks\")\n",
    "kmf.plot(ax=ax)\n",
    "\n",
    "\n",
    "plt.ylim(0, 1);\n",
    "plt.title(\"Survival in years for mesto=toraks vs other\");"
   ]
  },
  {
   "cell_type": "code",
   "execution_count": 720,
   "metadata": {},
   "outputs": [
    {
     "data": {
      "text/html": [
       "<div>\n",
       "<style scoped>\n",
       "    .dataframe tbody tr th:only-of-type {\n",
       "        vertical-align: middle;\n",
       "    }\n",
       "\n",
       "    .dataframe tbody tr th {\n",
       "        vertical-align: top;\n",
       "    }\n",
       "\n",
       "    .dataframe thead th {\n",
       "        text-align: right;\n",
       "    }\n",
       "</style>\n",
       "<table border=\"1\" class=\"dataframe\">\n",
       "  <thead>\n",
       "    <tr style=\"text-align: right;\">\n",
       "      <th></th>\n",
       "      <th>toraks_upper_0.95</th>\n",
       "      <th>toraks_lower_0.95</th>\n",
       "    </tr>\n",
       "  </thead>\n",
       "  <tbody>\n",
       "    <tr>\n",
       "      <th>0.0</th>\n",
       "      <td>0.796523</td>\n",
       "      <td>0.317587</td>\n",
       "    </tr>\n",
       "    <tr>\n",
       "      <th>1.0</th>\n",
       "      <td>0.743766</td>\n",
       "      <td>0.263202</td>\n",
       "    </tr>\n",
       "    <tr>\n",
       "      <th>2.0</th>\n",
       "      <td>0.627586</td>\n",
       "      <td>0.164939</td>\n",
       "    </tr>\n",
       "    <tr>\n",
       "      <th>4.0</th>\n",
       "      <td>0.627586</td>\n",
       "      <td>0.164939</td>\n",
       "    </tr>\n",
       "    <tr>\n",
       "      <th>5.0</th>\n",
       "      <td>0.627586</td>\n",
       "      <td>0.164939</td>\n",
       "    </tr>\n",
       "    <tr>\n",
       "      <th>8.0</th>\n",
       "      <td>0.627586</td>\n",
       "      <td>0.164939</td>\n",
       "    </tr>\n",
       "    <tr>\n",
       "      <th>11.0</th>\n",
       "      <td>0.627586</td>\n",
       "      <td>0.164939</td>\n",
       "    </tr>\n",
       "    <tr>\n",
       "      <th>13.0</th>\n",
       "      <td>0.627586</td>\n",
       "      <td>0.164939</td>\n",
       "    </tr>\n",
       "  </tbody>\n",
       "</table>\n",
       "</div>"
      ],
      "text/plain": [
       "      toraks_upper_0.95  toraks_lower_0.95\n",
       "0.0            0.796523           0.317587\n",
       "1.0            0.743766           0.263202\n",
       "2.0            0.627586           0.164939\n",
       "4.0            0.627586           0.164939\n",
       "5.0            0.627586           0.164939\n",
       "8.0            0.627586           0.164939\n",
       "11.0           0.627586           0.164939\n",
       "13.0           0.627586           0.164939"
      ]
     },
     "execution_count": 720,
     "metadata": {},
     "output_type": "execute_result"
    }
   ],
   "source": [
    "kmf.confidence_interval_"
   ]
  },
  {
   "cell_type": "code",
   "execution_count": 721,
   "metadata": {},
   "outputs": [
    {
     "name": "stdout",
     "output_type": "stream",
     "text": [
      "            toraks\n",
      "timeline          \n",
      "0.0       0.600000\n",
      "1.0       0.533333\n",
      "2.0       0.400000\n",
      "4.0       0.400000\n",
      "5.0       0.400000\n",
      "8.0       0.400000\n",
      "11.0      0.400000\n",
      "13.0      0.400000\n"
     ]
    }
   ],
   "source": [
    "print(kmf.survival_function_)"
   ]
  },
  {
   "cell_type": "code",
   "execution_count": 722,
   "metadata": {},
   "outputs": [
    {
     "data": {
      "image/png": "[encoded data removed]",
      "text/plain": [
       "<Figure size 432x288 with 1 Axes>"
      ]
     },
     "metadata": {
      "needs_background": "light"
     },
     "output_type": "display_data"
    }
   ],
   "source": [
    "ax = plt.subplot(111)\n",
    "\n",
    "mesto = (df[\"mesto\"] == 6)\n",
    "\n",
    "kmf.fit(T[mesto], event_observed=E[mesto], label=\"abdomen, pelvis, retroperitonej\")\n",
    "kmf.plot(ax=ax)\n",
    "\n",
    "\n",
    "plt.ylim(0, 1);\n",
    "plt.title(\"Survival in years for mesto=abdomen, pelvis, retroperitonej vs other\");"
   ]
  },
  {
   "cell_type": "code",
   "execution_count": 723,
   "metadata": {},
   "outputs": [
    {
     "data": {
      "text/html": [
       "<div>\n",
       "<style scoped>\n",
       "    .dataframe tbody tr th:only-of-type {\n",
       "        vertical-align: middle;\n",
       "    }\n",
       "\n",
       "    .dataframe tbody tr th {\n",
       "        vertical-align: top;\n",
       "    }\n",
       "\n",
       "    .dataframe thead th {\n",
       "        text-align: right;\n",
       "    }\n",
       "</style>\n",
       "<table border=\"1\" class=\"dataframe\">\n",
       "  <thead>\n",
       "    <tr style=\"text-align: right;\">\n",
       "      <th></th>\n",
       "      <th>abdomen, pelvis, retroperitonej_upper_0.95</th>\n",
       "      <th>abdomen, pelvis, retroperitonej_lower_0.95</th>\n",
       "    </tr>\n",
       "  </thead>\n",
       "  <tbody>\n",
       "    <tr>\n",
       "      <th>-1.0</th>\n",
       "      <td>0.995070</td>\n",
       "      <td>0.779470</td>\n",
       "    </tr>\n",
       "    <tr>\n",
       "      <th>0.0</th>\n",
       "      <td>0.924350</td>\n",
       "      <td>0.634286</td>\n",
       "    </tr>\n",
       "    <tr>\n",
       "      <th>1.0</th>\n",
       "      <td>0.824809</td>\n",
       "      <td>0.488309</td>\n",
       "    </tr>\n",
       "    <tr>\n",
       "      <th>2.0</th>\n",
       "      <td>0.739878</td>\n",
       "      <td>0.387979</td>\n",
       "    </tr>\n",
       "    <tr>\n",
       "      <th>3.0</th>\n",
       "      <td>0.709955</td>\n",
       "      <td>0.356125</td>\n",
       "    </tr>\n",
       "    <tr>\n",
       "      <th>4.0</th>\n",
       "      <td>0.644827</td>\n",
       "      <td>0.289198</td>\n",
       "    </tr>\n",
       "    <tr>\n",
       "      <th>6.0</th>\n",
       "      <td>0.644827</td>\n",
       "      <td>0.289198</td>\n",
       "    </tr>\n",
       "    <tr>\n",
       "      <th>7.0</th>\n",
       "      <td>0.644827</td>\n",
       "      <td>0.289198</td>\n",
       "    </tr>\n",
       "    <tr>\n",
       "      <th>8.0</th>\n",
       "      <td>0.644827</td>\n",
       "      <td>0.289198</td>\n",
       "    </tr>\n",
       "    <tr>\n",
       "      <th>9.0</th>\n",
       "      <td>0.644827</td>\n",
       "      <td>0.289198</td>\n",
       "    </tr>\n",
       "    <tr>\n",
       "      <th>10.0</th>\n",
       "      <td>0.644827</td>\n",
       "      <td>0.289198</td>\n",
       "    </tr>\n",
       "    <tr>\n",
       "      <th>11.0</th>\n",
       "      <td>0.644827</td>\n",
       "      <td>0.289198</td>\n",
       "    </tr>\n",
       "    <tr>\n",
       "      <th>14.0</th>\n",
       "      <td>0.644827</td>\n",
       "      <td>0.289198</td>\n",
       "    </tr>\n",
       "    <tr>\n",
       "      <th>15.0</th>\n",
       "      <td>0.644827</td>\n",
       "      <td>0.289198</td>\n",
       "    </tr>\n",
       "    <tr>\n",
       "      <th>17.0</th>\n",
       "      <td>0.644827</td>\n",
       "      <td>0.289198</td>\n",
       "    </tr>\n",
       "    <tr>\n",
       "      <th>18.0</th>\n",
       "      <td>0.644827</td>\n",
       "      <td>0.289198</td>\n",
       "    </tr>\n",
       "    <tr>\n",
       "      <th>19.0</th>\n",
       "      <td>0.644827</td>\n",
       "      <td>0.289198</td>\n",
       "    </tr>\n",
       "  </tbody>\n",
       "</table>\n",
       "</div>"
      ],
      "text/plain": [
       "       abdomen, pelvis, retroperitonej_upper_0.95  \\\n",
       "-1.0                                     0.995070   \n",
       " 0.0                                     0.924350   \n",
       " 1.0                                     0.824809   \n",
       " 2.0                                     0.739878   \n",
       " 3.0                                     0.709955   \n",
       " 4.0                                     0.644827   \n",
       " 6.0                                     0.644827   \n",
       " 7.0                                     0.644827   \n",
       " 8.0                                     0.644827   \n",
       " 9.0                                     0.644827   \n",
       " 10.0                                    0.644827   \n",
       " 11.0                                    0.644827   \n",
       " 14.0                                    0.644827   \n",
       " 15.0                                    0.644827   \n",
       " 17.0                                    0.644827   \n",
       " 18.0                                    0.644827   \n",
       " 19.0                                    0.644827   \n",
       "\n",
       "       abdomen, pelvis, retroperitonej_lower_0.95  \n",
       "-1.0                                     0.779470  \n",
       " 0.0                                     0.634286  \n",
       " 1.0                                     0.488309  \n",
       " 2.0                                     0.387979  \n",
       " 3.0                                     0.356125  \n",
       " 4.0                                     0.289198  \n",
       " 6.0                                     0.289198  \n",
       " 7.0                                     0.289198  \n",
       " 8.0                                     0.289198  \n",
       " 9.0                                     0.289198  \n",
       " 10.0                                    0.289198  \n",
       " 11.0                                    0.289198  \n",
       " 14.0                                    0.289198  \n",
       " 15.0                                    0.289198  \n",
       " 17.0                                    0.289198  \n",
       " 18.0                                    0.289198  \n",
       " 19.0                                    0.289198  "
      ]
     },
     "execution_count": 723,
     "metadata": {},
     "output_type": "execute_result"
    }
   ],
   "source": [
    "kmf.confidence_interval_"
   ]
  },
  {
   "cell_type": "code",
   "execution_count": 724,
   "metadata": {},
   "outputs": [
    {
     "name": "stdout",
     "output_type": "stream",
     "text": [
      "          abdomen, pelvis, retroperitonej\n",
      "timeline                                 \n",
      "-1.0                             0.965517\n",
      " 0.0                             0.827586\n",
      " 1.0                             0.689655\n",
      " 2.0                             0.586207\n",
      " 3.0                             0.551724\n",
      " 4.0                             0.478161\n",
      " 6.0                             0.478161\n",
      " 7.0                             0.478161\n",
      " 8.0                             0.478161\n",
      " 9.0                             0.478161\n",
      " 10.0                            0.478161\n",
      " 11.0                            0.478161\n",
      " 14.0                            0.478161\n",
      " 15.0                            0.478161\n",
      " 17.0                            0.478161\n",
      " 18.0                            0.478161\n",
      " 19.0                            0.478161\n"
     ]
    }
   ],
   "source": [
    "print(kmf.survival_function_)"
   ]
  },
  {
   "cell_type": "code",
   "execution_count": 725,
   "metadata": {},
   "outputs": [
    {
     "data": {
      "image/png": "[encoded data removed]",
      "text/plain": [
       "<Figure size 432x288 with 1 Axes>"
      ]
     },
     "metadata": {
      "needs_background": "light"
     },
     "output_type": "display_data"
    }
   ],
   "source": [
    "ax = plt.subplot(111)\n",
    "\n",
    "mesto = (df[\"mesto\"] == 7)\n",
    "\n",
    "kmf.fit(T[mesto], event_observed=E[mesto], label=\"bladder/prostate\")\n",
    "kmf.plot(ax=ax)\n",
    "\n",
    "\n",
    "plt.ylim(0, 1);\n",
    "plt.title(\"Survival in years for mesto=bladder/prostate vs other\");"
   ]
  },
  {
   "cell_type": "code",
   "execution_count": 726,
   "metadata": {},
   "outputs": [
    {
     "data": {
      "text/html": [
       "<div>\n",
       "<style scoped>\n",
       "    .dataframe tbody tr th:only-of-type {\n",
       "        vertical-align: middle;\n",
       "    }\n",
       "\n",
       "    .dataframe tbody tr th {\n",
       "        vertical-align: top;\n",
       "    }\n",
       "\n",
       "    .dataframe thead th {\n",
       "        text-align: right;\n",
       "    }\n",
       "</style>\n",
       "<table border=\"1\" class=\"dataframe\">\n",
       "  <thead>\n",
       "    <tr style=\"text-align: right;\">\n",
       "      <th></th>\n",
       "      <th>bladder/prostate_upper_0.95</th>\n",
       "      <th>bladder/prostate_lower_0.95</th>\n",
       "    </tr>\n",
       "  </thead>\n",
       "  <tbody>\n",
       "    <tr>\n",
       "      <th>0.0</th>\n",
       "      <td>NaN</td>\n",
       "      <td>NaN</td>\n",
       "    </tr>\n",
       "    <tr>\n",
       "      <th>1.0</th>\n",
       "      <td>0.98962</td>\n",
       "      <td>0.590767</td>\n",
       "    </tr>\n",
       "    <tr>\n",
       "      <th>6.0</th>\n",
       "      <td>0.98962</td>\n",
       "      <td>0.590767</td>\n",
       "    </tr>\n",
       "    <tr>\n",
       "      <th>7.0</th>\n",
       "      <td>0.98962</td>\n",
       "      <td>0.590767</td>\n",
       "    </tr>\n",
       "    <tr>\n",
       "      <th>8.0</th>\n",
       "      <td>0.98962</td>\n",
       "      <td>0.590767</td>\n",
       "    </tr>\n",
       "    <tr>\n",
       "      <th>12.0</th>\n",
       "      <td>0.98962</td>\n",
       "      <td>0.590767</td>\n",
       "    </tr>\n",
       "    <tr>\n",
       "      <th>13.0</th>\n",
       "      <td>0.98962</td>\n",
       "      <td>0.590767</td>\n",
       "    </tr>\n",
       "    <tr>\n",
       "      <th>15.0</th>\n",
       "      <td>0.98962</td>\n",
       "      <td>0.590767</td>\n",
       "    </tr>\n",
       "    <tr>\n",
       "      <th>16.0</th>\n",
       "      <td>0.98962</td>\n",
       "      <td>0.590767</td>\n",
       "    </tr>\n",
       "    <tr>\n",
       "      <th>18.0</th>\n",
       "      <td>0.98962</td>\n",
       "      <td>0.590767</td>\n",
       "    </tr>\n",
       "    <tr>\n",
       "      <th>19.0</th>\n",
       "      <td>0.98962</td>\n",
       "      <td>0.590767</td>\n",
       "    </tr>\n",
       "  </tbody>\n",
       "</table>\n",
       "</div>"
      ],
      "text/plain": [
       "      bladder/prostate_upper_0.95  bladder/prostate_lower_0.95\n",
       "0.0                           NaN                          NaN\n",
       "1.0                       0.98962                     0.590767\n",
       "6.0                       0.98962                     0.590767\n",
       "7.0                       0.98962                     0.590767\n",
       "8.0                       0.98962                     0.590767\n",
       "12.0                      0.98962                     0.590767\n",
       "13.0                      0.98962                     0.590767\n",
       "15.0                      0.98962                     0.590767\n",
       "16.0                      0.98962                     0.590767\n",
       "18.0                      0.98962                     0.590767\n",
       "19.0                      0.98962                     0.590767"
      ]
     },
     "execution_count": 726,
     "metadata": {},
     "output_type": "execute_result"
    }
   ],
   "source": [
    "kmf.confidence_interval_"
   ]
  },
  {
   "cell_type": "code",
   "execution_count": 727,
   "metadata": {},
   "outputs": [
    {
     "name": "stdout",
     "output_type": "stream",
     "text": [
      "          bladder/prostate\n",
      "timeline                  \n",
      "0.0               1.000000\n",
      "1.0               0.928571\n",
      "6.0               0.928571\n",
      "7.0               0.928571\n",
      "8.0               0.928571\n",
      "12.0              0.928571\n",
      "13.0              0.928571\n",
      "15.0              0.928571\n",
      "16.0              0.928571\n",
      "18.0              0.928571\n",
      "19.0              0.928571\n"
     ]
    }
   ],
   "source": [
    "print(kmf.survival_function_)"
   ]
  },
  {
   "cell_type": "code",
   "execution_count": 728,
   "metadata": {},
   "outputs": [
    {
     "data": {
      "image/png": "[encoded data removed]",
      "text/plain": [
       "<Figure size 432x288 with 1 Axes>"
      ]
     },
     "metadata": {
      "needs_background": "light"
     },
     "output_type": "display_data"
    }
   ],
   "source": [
    "ax = plt.subplot(111)\n",
    "\n",
    "mesto = (df[\"mesto\"] == 8)\n",
    "\n",
    "kmf.fit(T[mesto], event_observed=E[mesto], label=\"testis, uterus, vagina\")\n",
    "kmf.plot(ax=ax)\n",
    "\n",
    "\n",
    "plt.ylim(0, 1);\n",
    "plt.title(\"Survival in years for mesto=testis, uterus, vagina vs other\");"
   ]
  },
  {
   "cell_type": "code",
   "execution_count": 729,
   "metadata": {},
   "outputs": [
    {
     "data": {
      "text/html": [
       "<div>\n",
       "<style scoped>\n",
       "    .dataframe tbody tr th:only-of-type {\n",
       "        vertical-align: middle;\n",
       "    }\n",
       "\n",
       "    .dataframe tbody tr th {\n",
       "        vertical-align: top;\n",
       "    }\n",
       "\n",
       "    .dataframe thead th {\n",
       "        text-align: right;\n",
       "    }\n",
       "</style>\n",
       "<table border=\"1\" class=\"dataframe\">\n",
       "  <thead>\n",
       "    <tr style=\"text-align: right;\">\n",
       "      <th></th>\n",
       "      <th>testis, uterus, vagina_upper_0.95</th>\n",
       "      <th>testis, uterus, vagina_lower_0.95</th>\n",
       "    </tr>\n",
       "  </thead>\n",
       "  <tbody>\n",
       "    <tr>\n",
       "      <th>-1.0</th>\n",
       "      <td>0.993470</td>\n",
       "      <td>0.718703</td>\n",
       "    </tr>\n",
       "    <tr>\n",
       "      <th>1.0</th>\n",
       "      <td>0.976457</td>\n",
       "      <td>0.682979</td>\n",
       "    </tr>\n",
       "    <tr>\n",
       "      <th>2.0</th>\n",
       "      <td>0.953863</td>\n",
       "      <td>0.634438</td>\n",
       "    </tr>\n",
       "    <tr>\n",
       "      <th>3.0</th>\n",
       "      <td>0.927566</td>\n",
       "      <td>0.585348</td>\n",
       "    </tr>\n",
       "    <tr>\n",
       "      <th>4.0</th>\n",
       "      <td>0.927566</td>\n",
       "      <td>0.585348</td>\n",
       "    </tr>\n",
       "    <tr>\n",
       "      <th>5.0</th>\n",
       "      <td>0.927566</td>\n",
       "      <td>0.585348</td>\n",
       "    </tr>\n",
       "    <tr>\n",
       "      <th>6.0</th>\n",
       "      <td>0.927566</td>\n",
       "      <td>0.585348</td>\n",
       "    </tr>\n",
       "    <tr>\n",
       "      <th>7.0</th>\n",
       "      <td>0.927566</td>\n",
       "      <td>0.585348</td>\n",
       "    </tr>\n",
       "    <tr>\n",
       "      <th>8.0</th>\n",
       "      <td>0.927566</td>\n",
       "      <td>0.585348</td>\n",
       "    </tr>\n",
       "    <tr>\n",
       "      <th>9.0</th>\n",
       "      <td>0.927566</td>\n",
       "      <td>0.585348</td>\n",
       "    </tr>\n",
       "    <tr>\n",
       "      <th>11.0</th>\n",
       "      <td>0.927566</td>\n",
       "      <td>0.585348</td>\n",
       "    </tr>\n",
       "    <tr>\n",
       "      <th>13.0</th>\n",
       "      <td>0.927566</td>\n",
       "      <td>0.585348</td>\n",
       "    </tr>\n",
       "    <tr>\n",
       "      <th>14.0</th>\n",
       "      <td>0.927566</td>\n",
       "      <td>0.585348</td>\n",
       "    </tr>\n",
       "    <tr>\n",
       "      <th>16.0</th>\n",
       "      <td>0.927566</td>\n",
       "      <td>0.585348</td>\n",
       "    </tr>\n",
       "    <tr>\n",
       "      <th>17.0</th>\n",
       "      <td>0.927566</td>\n",
       "      <td>0.585348</td>\n",
       "    </tr>\n",
       "    <tr>\n",
       "      <th>19.0</th>\n",
       "      <td>0.927566</td>\n",
       "      <td>0.585348</td>\n",
       "    </tr>\n",
       "  </tbody>\n",
       "</table>\n",
       "</div>"
      ],
      "text/plain": [
       "       testis, uterus, vagina_upper_0.95  testis, uterus, vagina_lower_0.95\n",
       "-1.0                            0.993470                           0.718703\n",
       " 1.0                            0.976457                           0.682979\n",
       " 2.0                            0.953863                           0.634438\n",
       " 3.0                            0.927566                           0.585348\n",
       " 4.0                            0.927566                           0.585348\n",
       " 5.0                            0.927566                           0.585348\n",
       " 6.0                            0.927566                           0.585348\n",
       " 7.0                            0.927566                           0.585348\n",
       " 8.0                            0.927566                           0.585348\n",
       " 9.0                            0.927566                           0.585348\n",
       " 11.0                           0.927566                           0.585348\n",
       " 13.0                           0.927566                           0.585348\n",
       " 14.0                           0.927566                           0.585348\n",
       " 16.0                           0.927566                           0.585348\n",
       " 17.0                           0.927566                           0.585348\n",
       " 19.0                           0.927566                           0.585348"
      ]
     },
     "execution_count": 729,
     "metadata": {},
     "output_type": "execute_result"
    }
   ],
   "source": [
    "kmf.confidence_interval_"
   ]
  },
  {
   "cell_type": "code",
   "execution_count": 730,
   "metadata": {},
   "outputs": [
    {
     "name": "stdout",
     "output_type": "stream",
     "text": [
      "          testis, uterus, vagina\n",
      "timeline                        \n",
      "-1.0                    0.954545\n",
      " 1.0                    0.909091\n",
      " 2.0                    0.863636\n",
      " 3.0                    0.818182\n",
      " 4.0                    0.818182\n",
      " 5.0                    0.818182\n",
      " 6.0                    0.818182\n",
      " 7.0                    0.818182\n",
      " 8.0                    0.818182\n",
      " 9.0                    0.818182\n",
      " 11.0                   0.818182\n",
      " 13.0                   0.818182\n",
      " 14.0                   0.818182\n",
      " 16.0                   0.818182\n",
      " 17.0                   0.818182\n",
      " 19.0                   0.818182\n"
     ]
    }
   ],
   "source": [
    "print(kmf.survival_function_)"
   ]
  },
  {
   "cell_type": "markdown",
   "metadata": {},
   "source": [
    "## Kaplan Meier survival analysis event free survival (EFT)\n"
   ]
  },
  {
   "cell_type": "code",
   "execution_count": 731,
   "metadata": {},
   "outputs": [],
   "source": [
    "start_dates = df['diagnoza']\n",
    "end_dates_relaps = df['datum relapsa']\n",
    "#https://lifelines.readthedocs.io/en/latest/lifelines.utils.html#lifelines.utils.datetimes_to_durations\n",
    "#\n",
    "TR, ER = datetimes_to_durations(start_dates, end_dates_relaps, freq=\"Y\")"
   ]
  },
  {
   "cell_type": "code",
   "execution_count": 732,
   "metadata": {},
   "outputs": [
    {
     "data": {
      "text/plain": [
       "<lifelines.KaplanMeierFitter: fitted with 169 observations, 102 censored>"
      ]
     },
     "execution_count": 732,
     "metadata": {},
     "output_type": "execute_result"
    }
   ],
   "source": [
    "kmf.fit(TR, event_observed=ER)  # fit Kaplan Meier for relaps"
   ]
  },
  {
   "cell_type": "code",
   "execution_count": 733,
   "metadata": {},
   "outputs": [
    {
     "data": {
      "image/png": "[encoded data removed]",
      "text/plain": [
       "<Figure size 432x288 with 1 Axes>"
      ]
     },
     "metadata": {
      "needs_background": "light"
     },
     "output_type": "display_data"
    }
   ],
   "source": [
    "kmf.survival_function_\n",
    "kmf.survival_function_.plot()\n",
    "plt.title('Event free survival (timeline in years)');"
   ]
  },
  {
   "cell_type": "code",
   "execution_count": 734,
   "metadata": {},
   "outputs": [
    {
     "data": {
      "text/plain": [
       "<matplotlib.axes._subplots.AxesSubplot at 0x2288786ebe0>"
      ]
     },
     "execution_count": 734,
     "metadata": {},
     "output_type": "execute_result"
    },
    {
     "data": {
      "image/png": "[encoded data removed]",
      "text/plain": [
       "<Figure size 432x288 with 1 Axes>"
      ]
     },
     "metadata": {
      "needs_background": "light"
     },
     "output_type": "display_data"
    }
   ],
   "source": [
    "kmf.plot()"
   ]
  },
  {
   "cell_type": "code",
   "execution_count": 735,
   "metadata": {},
   "outputs": [
    {
     "data": {
      "text/html": [
       "<div>\n",
       "<style scoped>\n",
       "    .dataframe tbody tr th:only-of-type {\n",
       "        vertical-align: middle;\n",
       "    }\n",
       "\n",
       "    .dataframe tbody tr th {\n",
       "        vertical-align: top;\n",
       "    }\n",
       "\n",
       "    .dataframe thead th {\n",
       "        text-align: right;\n",
       "    }\n",
       "</style>\n",
       "<table border=\"1\" class=\"dataframe\">\n",
       "  <thead>\n",
       "    <tr style=\"text-align: right;\">\n",
       "      <th></th>\n",
       "      <th>KM_estimate_upper_0.95</th>\n",
       "      <th>KM_estimate_lower_0.95</th>\n",
       "    </tr>\n",
       "  </thead>\n",
       "  <tbody>\n",
       "    <tr>\n",
       "      <th>-1.0</th>\n",
       "      <td>0.999164</td>\n",
       "      <td>0.958744</td>\n",
       "    </tr>\n",
       "    <tr>\n",
       "      <th>0.0</th>\n",
       "      <td>0.926768</td>\n",
       "      <td>0.829422</td>\n",
       "    </tr>\n",
       "    <tr>\n",
       "      <th>1.0</th>\n",
       "      <td>0.809831</td>\n",
       "      <td>0.679087</td>\n",
       "    </tr>\n",
       "    <tr>\n",
       "      <th>2.0</th>\n",
       "      <td>0.695184</td>\n",
       "      <td>0.549661</td>\n",
       "    </tr>\n",
       "    <tr>\n",
       "      <th>3.0</th>\n",
       "      <td>0.683799</td>\n",
       "      <td>0.537349</td>\n",
       "    </tr>\n",
       "    <tr>\n",
       "      <th>4.0</th>\n",
       "      <td>0.672171</td>\n",
       "      <td>0.524799</td>\n",
       "    </tr>\n",
       "    <tr>\n",
       "      <th>5.0</th>\n",
       "      <td>0.672171</td>\n",
       "      <td>0.524799</td>\n",
       "    </tr>\n",
       "    <tr>\n",
       "      <th>6.0</th>\n",
       "      <td>0.672171</td>\n",
       "      <td>0.524799</td>\n",
       "    </tr>\n",
       "    <tr>\n",
       "      <th>7.0</th>\n",
       "      <td>0.672171</td>\n",
       "      <td>0.524799</td>\n",
       "    </tr>\n",
       "    <tr>\n",
       "      <th>8.0</th>\n",
       "      <td>0.672171</td>\n",
       "      <td>0.524799</td>\n",
       "    </tr>\n",
       "    <tr>\n",
       "      <th>9.0</th>\n",
       "      <td>0.672171</td>\n",
       "      <td>0.524799</td>\n",
       "    </tr>\n",
       "    <tr>\n",
       "      <th>10.0</th>\n",
       "      <td>0.672171</td>\n",
       "      <td>0.524799</td>\n",
       "    </tr>\n",
       "    <tr>\n",
       "      <th>11.0</th>\n",
       "      <td>0.672171</td>\n",
       "      <td>0.524799</td>\n",
       "    </tr>\n",
       "    <tr>\n",
       "      <th>12.0</th>\n",
       "      <td>0.672171</td>\n",
       "      <td>0.524799</td>\n",
       "    </tr>\n",
       "    <tr>\n",
       "      <th>13.0</th>\n",
       "      <td>0.672171</td>\n",
       "      <td>0.524799</td>\n",
       "    </tr>\n",
       "    <tr>\n",
       "      <th>14.0</th>\n",
       "      <td>0.672171</td>\n",
       "      <td>0.524799</td>\n",
       "    </tr>\n",
       "    <tr>\n",
       "      <th>15.0</th>\n",
       "      <td>0.672171</td>\n",
       "      <td>0.524799</td>\n",
       "    </tr>\n",
       "    <tr>\n",
       "      <th>16.0</th>\n",
       "      <td>0.672171</td>\n",
       "      <td>0.524799</td>\n",
       "    </tr>\n",
       "    <tr>\n",
       "      <th>17.0</th>\n",
       "      <td>0.672171</td>\n",
       "      <td>0.524799</td>\n",
       "    </tr>\n",
       "    <tr>\n",
       "      <th>18.0</th>\n",
       "      <td>0.672171</td>\n",
       "      <td>0.524799</td>\n",
       "    </tr>\n",
       "    <tr>\n",
       "      <th>19.0</th>\n",
       "      <td>0.672171</td>\n",
       "      <td>0.524799</td>\n",
       "    </tr>\n",
       "  </tbody>\n",
       "</table>\n",
       "</div>"
      ],
      "text/plain": [
       "       KM_estimate_upper_0.95  KM_estimate_lower_0.95\n",
       "-1.0                 0.999164                0.958744\n",
       " 0.0                 0.926768                0.829422\n",
       " 1.0                 0.809831                0.679087\n",
       " 2.0                 0.695184                0.549661\n",
       " 3.0                 0.683799                0.537349\n",
       " 4.0                 0.672171                0.524799\n",
       " 5.0                 0.672171                0.524799\n",
       " 6.0                 0.672171                0.524799\n",
       " 7.0                 0.672171                0.524799\n",
       " 8.0                 0.672171                0.524799\n",
       " 9.0                 0.672171                0.524799\n",
       " 10.0                0.672171                0.524799\n",
       " 11.0                0.672171                0.524799\n",
       " 12.0                0.672171                0.524799\n",
       " 13.0                0.672171                0.524799\n",
       " 14.0                0.672171                0.524799\n",
       " 15.0                0.672171                0.524799\n",
       " 16.0                0.672171                0.524799\n",
       " 17.0                0.672171                0.524799\n",
       " 18.0                0.672171                0.524799\n",
       " 19.0                0.672171                0.524799"
      ]
     },
     "execution_count": 735,
     "metadata": {},
     "output_type": "execute_result"
    }
   ],
   "source": [
    "kmf.confidence_interval_"
   ]
  },
  {
   "cell_type": "code",
   "execution_count": 736,
   "metadata": {},
   "outputs": [
    {
     "name": "stdout",
     "output_type": "stream",
     "text": [
      "          KM_estimate\n",
      "timeline             \n",
      "-1.0         0.994083\n",
      " 0.0         0.887574\n",
      " 1.0         0.751479\n",
      " 2.0         0.627219\n",
      " 3.0         0.615157\n",
      " 4.0         0.602854\n",
      " 5.0         0.602854\n",
      " 6.0         0.602854\n",
      " 7.0         0.602854\n",
      " 8.0         0.602854\n",
      " 9.0         0.602854\n",
      " 10.0        0.602854\n",
      " 11.0        0.602854\n",
      " 12.0        0.602854\n",
      " 13.0        0.602854\n",
      " 14.0        0.602854\n",
      " 15.0        0.602854\n",
      " 16.0        0.602854\n",
      " 17.0        0.602854\n",
      " 18.0        0.602854\n",
      " 19.0        0.602854\n"
     ]
    }
   ],
   "source": [
    "print(kmf.survival_function_)"
   ]
  },
  {
   "cell_type": "code",
   "execution_count": null,
   "metadata": {},
   "outputs": [],
   "source": []
  },
  {
   "cell_type": "code",
   "execution_count": 737,
   "metadata": {},
   "outputs": [],
   "source": [
    "\n",
    "#V zapiskih imam, da moram še narediti KM za META=1, KM za META=2 in META=3, KM za META=2, KM za META=3. \n",
    "#A je to mišljeno za survival ali za relaps event?\n",
    "\n",
    "#Enako vprašanje imam za KM za RT=1, in KM za RT=2."
   ]
  },
  {
   "cell_type": "code",
   "execution_count": null,
   "metadata": {},
   "outputs": [],
   "source": []
  }
 ],
 "metadata": {
  "kernelspec": {
   "display_name": "Python 3",
   "language": "python",
   "name": "python3"
  },
  "language_info": {
   "codemirror_mode": {
    "name": "ipython",
    "version": 3
   },
   "file_extension": ".py",
   "mimetype": "text/x-python",
   "name": "python",
   "nbconvert_exporter": "python",
   "pygments_lexer": "ipython3",
   "version": "3.6.7"
  }
 },
 "nbformat": 4,
 "nbformat_minor": 2
}
