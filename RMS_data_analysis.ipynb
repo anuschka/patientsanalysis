{
 "cells": [
  {
   "cell_type": "markdown",
   "metadata": {},
   "source": [
    "# Case Study: RMS dataset analysis and visualization.\n",
    "\n",
    "\n",
    "### This notebook uses a dataset provided by Maja C who studies pediatric oncology patients."
   ]
  },
  {
   "cell_type": "markdown",
   "metadata": {},
   "source": [
    "Initial cleaning from raw XLS data :cleaned 8 rows at the end. These were the following data descriptions:"
   ]
  },
  {
   "cell_type": "markdown",
   "metadata": {},
   "source": [
    "Column **patol**\n",
    "<ul>\n",
    "<li>1=E</li>\n",
    "<li>2=A</li>\n",
    "<li>3=ni znano</li>\n",
    "<li>4=spindle, botroid</li>\n",
    "</ul>\n",
    "\n",
    "Column **mesto**\n",
    "<ul>\n",
    "<li>1=H/N</li>\n",
    "<li>2=parameningeal</li>\n",
    "<li>3=orbita</li>\n",
    "<li>4=okoncine</li>\n",
    "<li>5=toraks</li>\n",
    "<li>6=abdomen, pelvis, retroperitonej</li>\n",
    "<li>7=bladder/prostate</li>\n",
    "<li>8=testis, uterus, vagina</li>\n",
    "</ul>    \n",
    "\n",
    "Column **size**\n",
    "<ul>\n",
    "<li>1=favourable (A)</li>\n",
    "<li>2=unfavourable (B)</li>\n",
    "<li>3=ni znano</li>\n",
    "</ul>\n",
    "\n",
    "Column **meta**\n",
    "<ul>\n",
    "<li>1=ni meta</li>\n",
    "<li>2=meta</li>\n",
    "<li>3=samo pulmo</li>\n",
    "</ul>\n",
    "\n",
    "Column **bezgavke**\n",
    "<ul>\n",
    "<li>1=neg</li>\n",
    "<li>2=poz</li>\n",
    "</ul>\n",
    "\n",
    "Column **operacija**\n",
    "<ul>\n",
    "<li>1=yes</li>\n",
    "<li>2=no</li>\n",
    "</ul>\n",
    "\n",
    "Column **R0,1,2**\n",
    "<ul>\n",
    "<li>0=R0</li>\n",
    "<li>1=R1</li>\n",
    "<li>2=R2</li>\n",
    "<li>3=R3</li>\n",
    "<li>4=ni znano</li>    \n",
    "</ul>\n",
    "\n",
    "Column **RT**\n",
    "<ul>\n",
    "<li>1=yes</li>\n",
    "<li>2=no</li>\n",
    "</ul>\n",
    "\n",
    "Column **status**\n",
    "<ul>\n",
    "<li>1=ziv</li>\n",
    "<li>2=mrtev</li>\n",
    "<li>3=toksicna smrt</li>\n",
    "</ul>\n"
   ]
  },
  {
   "cell_type": "markdown",
   "metadata": {},
   "source": [
    "Import libraries and XLS file."
   ]
  },
  {
   "cell_type": "code",
   "execution_count": 31,
   "metadata": {},
   "outputs": [
    {
     "data": {
      "text/plain": [
       "(179, 22)"
      ]
     },
     "execution_count": 31,
     "metadata": {},
     "output_type": "execute_result"
    }
   ],
   "source": [
    "from pandas import DataFrame, read_csv\n",
    "import matplotlib.pyplot as plt\n",
    "import pandas as pd \n",
    "import numpy as np\n",
    "%matplotlib inline\n",
    "\n",
    " \n",
    "file = r'RMS_tabela_final_Copy.xls'\n",
    "df = pd.read_excel(file, sheet_name='Sheet2')\n",
    "df.shape"
   ]
  },
  {
   "cell_type": "markdown",
   "metadata": {},
   "source": [
    "The dataset has 179 rows (patients) and 22 columns (observed characteristics)."
   ]
  },
  {
   "cell_type": "code",
   "execution_count": 32,
   "metadata": {},
   "outputs": [
    {
     "data": {
      "text/html": [
       "<div>\n",
       "<style scoped>\n",
       "    .dataframe tbody tr th:only-of-type {\n",
       "        vertical-align: middle;\n",
       "    }\n",
       "\n",
       "    .dataframe tbody tr th {\n",
       "        vertical-align: top;\n",
       "    }\n",
       "\n",
       "    .dataframe thead th {\n",
       "        text-align: right;\n",
       "    }\n",
       "</style>\n",
       "<table border=\"1\" class=\"dataframe\">\n",
       "  <thead>\n",
       "    <tr style=\"text-align: right;\">\n",
       "      <th></th>\n",
       "      <th>zap st</th>\n",
       "      <th>dan</th>\n",
       "      <th>mesec</th>\n",
       "      <th>leto roj</th>\n",
       "      <th>dan.1</th>\n",
       "      <th>mesec.1</th>\n",
       "      <th>leto dg</th>\n",
       "      <th>starost</th>\n",
       "      <th>patol</th>\n",
       "      <th>IRS</th>\n",
       "      <th>...</th>\n",
       "      <th>meta</th>\n",
       "      <th>bezgavke</th>\n",
       "      <th>operacija</th>\n",
       "      <th>R0,1,2</th>\n",
       "      <th>RT</th>\n",
       "      <th>RT ob relapsu</th>\n",
       "      <th>dan.2</th>\n",
       "      <th>mesec.2</th>\n",
       "      <th>leto smrti</th>\n",
       "      <th>status</th>\n",
       "    </tr>\n",
       "  </thead>\n",
       "  <tbody>\n",
       "    <tr>\n",
       "      <th>0</th>\n",
       "      <td>MB</td>\n",
       "      <td>11.0</td>\n",
       "      <td>2.0</td>\n",
       "      <td>1985.0</td>\n",
       "      <td>7.0</td>\n",
       "      <td>2.0</td>\n",
       "      <td>2000.0</td>\n",
       "      <td>14.99</td>\n",
       "      <td>2</td>\n",
       "      <td>4</td>\n",
       "      <td>...</td>\n",
       "      <td>2</td>\n",
       "      <td>2</td>\n",
       "      <td>2</td>\n",
       "      <td>NaN</td>\n",
       "      <td>1</td>\n",
       "      <td>1.0</td>\n",
       "      <td>4.0</td>\n",
       "      <td>12.0</td>\n",
       "      <td>2000.0</td>\n",
       "      <td>2.0</td>\n",
       "    </tr>\n",
       "    <tr>\n",
       "      <th>1</th>\n",
       "      <td>KGP</td>\n",
       "      <td>30.0</td>\n",
       "      <td>7.0</td>\n",
       "      <td>1990.0</td>\n",
       "      <td>27.0</td>\n",
       "      <td>2.0</td>\n",
       "      <td>2001.0</td>\n",
       "      <td>10.58</td>\n",
       "      <td>3</td>\n",
       "      <td>4</td>\n",
       "      <td>...</td>\n",
       "      <td>3</td>\n",
       "      <td>2</td>\n",
       "      <td>2</td>\n",
       "      <td>NaN</td>\n",
       "      <td>2</td>\n",
       "      <td>NaN</td>\n",
       "      <td>25.0</td>\n",
       "      <td>8.0</td>\n",
       "      <td>2001.0</td>\n",
       "      <td>2.0</td>\n",
       "    </tr>\n",
       "    <tr>\n",
       "      <th>2</th>\n",
       "      <td>KM</td>\n",
       "      <td>23.0</td>\n",
       "      <td>12.0</td>\n",
       "      <td>1993.0</td>\n",
       "      <td>9.0</td>\n",
       "      <td>5.0</td>\n",
       "      <td>2001.0</td>\n",
       "      <td>7.38</td>\n",
       "      <td>1</td>\n",
       "      <td>3</td>\n",
       "      <td>...</td>\n",
       "      <td>1</td>\n",
       "      <td>2</td>\n",
       "      <td>2</td>\n",
       "      <td>NaN</td>\n",
       "      <td>1</td>\n",
       "      <td>NaN</td>\n",
       "      <td>NaN</td>\n",
       "      <td>NaN</td>\n",
       "      <td>NaN</td>\n",
       "      <td>1.0</td>\n",
       "    </tr>\n",
       "    <tr>\n",
       "      <th>3</th>\n",
       "      <td>SN</td>\n",
       "      <td>20.0</td>\n",
       "      <td>9.0</td>\n",
       "      <td>1999.0</td>\n",
       "      <td>20.0</td>\n",
       "      <td>10.0</td>\n",
       "      <td>2001.0</td>\n",
       "      <td>2.08</td>\n",
       "      <td>1</td>\n",
       "      <td>4</td>\n",
       "      <td>...</td>\n",
       "      <td>2</td>\n",
       "      <td>1</td>\n",
       "      <td>1</td>\n",
       "      <td>1.0</td>\n",
       "      <td>1</td>\n",
       "      <td>2.0</td>\n",
       "      <td>8.0</td>\n",
       "      <td>1.0</td>\n",
       "      <td>2004.0</td>\n",
       "      <td>2.0</td>\n",
       "    </tr>\n",
       "    <tr>\n",
       "      <th>4</th>\n",
       "      <td>KK</td>\n",
       "      <td>15.0</td>\n",
       "      <td>12.0</td>\n",
       "      <td>1996.0</td>\n",
       "      <td>1.0</td>\n",
       "      <td>2.0</td>\n",
       "      <td>2002.0</td>\n",
       "      <td>5.13</td>\n",
       "      <td>1</td>\n",
       "      <td>1</td>\n",
       "      <td>...</td>\n",
       "      <td>1</td>\n",
       "      <td>1</td>\n",
       "      <td>1</td>\n",
       "      <td>0.0</td>\n",
       "      <td>2</td>\n",
       "      <td>NaN</td>\n",
       "      <td>NaN</td>\n",
       "      <td>NaN</td>\n",
       "      <td>NaN</td>\n",
       "      <td>1.0</td>\n",
       "    </tr>\n",
       "    <tr>\n",
       "      <th>5</th>\n",
       "      <td>ST</td>\n",
       "      <td>19.0</td>\n",
       "      <td>9.0</td>\n",
       "      <td>1986.0</td>\n",
       "      <td>5.0</td>\n",
       "      <td>8.0</td>\n",
       "      <td>2002.0</td>\n",
       "      <td>15.88</td>\n",
       "      <td>1</td>\n",
       "      <td>3</td>\n",
       "      <td>...</td>\n",
       "      <td>1</td>\n",
       "      <td>1</td>\n",
       "      <td>2</td>\n",
       "      <td>NaN</td>\n",
       "      <td>1</td>\n",
       "      <td>NaN</td>\n",
       "      <td>NaN</td>\n",
       "      <td>NaN</td>\n",
       "      <td>NaN</td>\n",
       "      <td>1.0</td>\n",
       "    </tr>\n",
       "    <tr>\n",
       "      <th>6</th>\n",
       "      <td>HZ</td>\n",
       "      <td>3.0</td>\n",
       "      <td>4.0</td>\n",
       "      <td>2002.0</td>\n",
       "      <td>14.0</td>\n",
       "      <td>2.0</td>\n",
       "      <td>2003.0</td>\n",
       "      <td>0.87</td>\n",
       "      <td>1</td>\n",
       "      <td>3</td>\n",
       "      <td>...</td>\n",
       "      <td>1</td>\n",
       "      <td>1</td>\n",
       "      <td>1</td>\n",
       "      <td>1.0</td>\n",
       "      <td>2</td>\n",
       "      <td>2.0</td>\n",
       "      <td>NaN</td>\n",
       "      <td>NaN</td>\n",
       "      <td>NaN</td>\n",
       "      <td>1.0</td>\n",
       "    </tr>\n",
       "    <tr>\n",
       "      <th>7</th>\n",
       "      <td>MM</td>\n",
       "      <td>27.0</td>\n",
       "      <td>1.0</td>\n",
       "      <td>1992.0</td>\n",
       "      <td>27.0</td>\n",
       "      <td>10.0</td>\n",
       "      <td>2003.0</td>\n",
       "      <td>11.75</td>\n",
       "      <td>1</td>\n",
       "      <td>3</td>\n",
       "      <td>...</td>\n",
       "      <td>1</td>\n",
       "      <td>1</td>\n",
       "      <td>2</td>\n",
       "      <td>NaN</td>\n",
       "      <td>1</td>\n",
       "      <td>NaN</td>\n",
       "      <td>NaN</td>\n",
       "      <td>NaN</td>\n",
       "      <td>NaN</td>\n",
       "      <td>1.0</td>\n",
       "    </tr>\n",
       "    <tr>\n",
       "      <th>8</th>\n",
       "      <td>ZI</td>\n",
       "      <td>6.0</td>\n",
       "      <td>11.0</td>\n",
       "      <td>1985.0</td>\n",
       "      <td>3.0</td>\n",
       "      <td>10.0</td>\n",
       "      <td>2003.0</td>\n",
       "      <td>17.91</td>\n",
       "      <td>2</td>\n",
       "      <td>3</td>\n",
       "      <td>...</td>\n",
       "      <td>1</td>\n",
       "      <td>2</td>\n",
       "      <td>2</td>\n",
       "      <td>NaN</td>\n",
       "      <td>1</td>\n",
       "      <td>2.0</td>\n",
       "      <td>24.0</td>\n",
       "      <td>5.0</td>\n",
       "      <td>2004.0</td>\n",
       "      <td>2.0</td>\n",
       "    </tr>\n",
       "    <tr>\n",
       "      <th>9</th>\n",
       "      <td>KK</td>\n",
       "      <td>22.0</td>\n",
       "      <td>12.0</td>\n",
       "      <td>1988.0</td>\n",
       "      <td>6.0</td>\n",
       "      <td>1.0</td>\n",
       "      <td>2005.0</td>\n",
       "      <td>16.04</td>\n",
       "      <td>4</td>\n",
       "      <td>1</td>\n",
       "      <td>...</td>\n",
       "      <td>1</td>\n",
       "      <td>2</td>\n",
       "      <td>1</td>\n",
       "      <td>1.0</td>\n",
       "      <td>1</td>\n",
       "      <td>NaN</td>\n",
       "      <td>NaN</td>\n",
       "      <td>NaN</td>\n",
       "      <td>NaN</td>\n",
       "      <td>1.0</td>\n",
       "    </tr>\n",
       "  </tbody>\n",
       "</table>\n",
       "<p>10 rows × 22 columns</p>\n",
       "</div>"
      ],
      "text/plain": [
       "  zap st   dan  mesec  leto roj  dan.1  mesec.1  leto dg  starost  patol  IRS  \\\n",
       "0     MB  11.0    2.0    1985.0    7.0      2.0   2000.0    14.99      2    4   \n",
       "1    KGP  30.0    7.0    1990.0   27.0      2.0   2001.0    10.58      3    4   \n",
       "2     KM  23.0   12.0    1993.0    9.0      5.0   2001.0     7.38      1    3   \n",
       "3     SN  20.0    9.0    1999.0   20.0     10.0   2001.0     2.08      1    4   \n",
       "4     KK  15.0   12.0    1996.0    1.0      2.0   2002.0     5.13      1    1   \n",
       "5     ST  19.0    9.0    1986.0    5.0      8.0   2002.0    15.88      1    3   \n",
       "6     HZ   3.0    4.0    2002.0   14.0      2.0   2003.0     0.87      1    3   \n",
       "7     MM  27.0    1.0    1992.0   27.0     10.0   2003.0    11.75      1    3   \n",
       "8     ZI   6.0   11.0    1985.0    3.0     10.0   2003.0    17.91      2    3   \n",
       "9     KK  22.0   12.0    1988.0    6.0      1.0   2005.0    16.04      4    1   \n",
       "\n",
       "   ...  meta  bezgavke  operacija  R0,1,2  RT  RT ob relapsu  dan.2  mesec.2  \\\n",
       "0  ...     2         2          2     NaN   1            1.0    4.0     12.0   \n",
       "1  ...     3         2          2     NaN   2            NaN   25.0      8.0   \n",
       "2  ...     1         2          2     NaN   1            NaN    NaN      NaN   \n",
       "3  ...     2         1          1     1.0   1            2.0    8.0      1.0   \n",
       "4  ...     1         1          1     0.0   2            NaN    NaN      NaN   \n",
       "5  ...     1         1          2     NaN   1            NaN    NaN      NaN   \n",
       "6  ...     1         1          1     1.0   2            2.0    NaN      NaN   \n",
       "7  ...     1         1          2     NaN   1            NaN    NaN      NaN   \n",
       "8  ...     1         2          2     NaN   1            2.0   24.0      5.0   \n",
       "9  ...     1         2          1     1.0   1            NaN    NaN      NaN   \n",
       "\n",
       "   leto smrti  status  \n",
       "0      2000.0     2.0  \n",
       "1      2001.0     2.0  \n",
       "2         NaN     1.0  \n",
       "3      2004.0     2.0  \n",
       "4         NaN     1.0  \n",
       "5         NaN     1.0  \n",
       "6         NaN     1.0  \n",
       "7         NaN     1.0  \n",
       "8      2004.0     2.0  \n",
       "9         NaN     1.0  \n",
       "\n",
       "[10 rows x 22 columns]"
      ]
     },
     "execution_count": 32,
     "metadata": {},
     "output_type": "execute_result"
    }
   ],
   "source": [
    "#Display first 10 raws of the table\n",
    "\n",
    "df.head(10)"
   ]
  },
  {
   "cell_type": "code",
   "execution_count": 33,
   "metadata": {},
   "outputs": [
    {
     "data": {
      "text/plain": [
       "Index(['zap st', 'dan', 'mesec', 'leto roj', 'dan.1', 'mesec.1', 'leto dg',\n",
       "       'starost', 'patol', 'IRS', 'mesto', 'size', 'meta', 'bezgavke',\n",
       "       'operacija', 'R0,1,2', 'RT', 'RT ob relapsu', 'dan.2', 'mesec.2',\n",
       "       'leto smrti', 'status'],\n",
       "      dtype='object')"
      ]
     },
     "execution_count": 33,
     "metadata": {},
     "output_type": "execute_result"
    }
   ],
   "source": [
    "df.columns"
   ]
  },
  {
   "cell_type": "markdown",
   "metadata": {},
   "source": [
    "### Data Cleaning: Dealing with one Outlier"
   ]
  },
  {
   "cell_type": "code",
   "execution_count": 34,
   "metadata": {},
   "outputs": [
    {
     "data": {
      "text/html": [
       "<div>\n",
       "<style scoped>\n",
       "    .dataframe tbody tr th:only-of-type {\n",
       "        vertical-align: middle;\n",
       "    }\n",
       "\n",
       "    .dataframe tbody tr th {\n",
       "        vertical-align: top;\n",
       "    }\n",
       "\n",
       "    .dataframe thead th {\n",
       "        text-align: right;\n",
       "    }\n",
       "</style>\n",
       "<table border=\"1\" class=\"dataframe\">\n",
       "  <thead>\n",
       "    <tr style=\"text-align: right;\">\n",
       "      <th></th>\n",
       "      <th>zap st</th>\n",
       "      <th>dan</th>\n",
       "      <th>mesec</th>\n",
       "      <th>leto roj</th>\n",
       "      <th>dan.1</th>\n",
       "      <th>mesec.1</th>\n",
       "      <th>leto dg</th>\n",
       "      <th>starost</th>\n",
       "      <th>patol</th>\n",
       "      <th>IRS</th>\n",
       "      <th>...</th>\n",
       "      <th>meta</th>\n",
       "      <th>bezgavke</th>\n",
       "      <th>operacija</th>\n",
       "      <th>R0,1,2</th>\n",
       "      <th>RT</th>\n",
       "      <th>RT ob relapsu</th>\n",
       "      <th>dan.2</th>\n",
       "      <th>mesec.2</th>\n",
       "      <th>leto smrti</th>\n",
       "      <th>status</th>\n",
       "    </tr>\n",
       "  </thead>\n",
       "  <tbody>\n",
       "    <tr>\n",
       "      <th>71</th>\n",
       "      <td>20</td>\n",
       "      <td>18.0</td>\n",
       "      <td>6.0</td>\n",
       "      <td>1981.0</td>\n",
       "      <td>5.0</td>\n",
       "      <td>7.0</td>\n",
       "      <td>2001.0</td>\n",
       "      <td>20.05</td>\n",
       "      <td>1</td>\n",
       "      <td>3</td>\n",
       "      <td>...</td>\n",
       "      <td>1</td>\n",
       "      <td>1</td>\n",
       "      <td>2</td>\n",
       "      <td>NaN</td>\n",
       "      <td>1</td>\n",
       "      <td>1.0</td>\n",
       "      <td>24.0</td>\n",
       "      <td>2.0</td>\n",
       "      <td>2004.0</td>\n",
       "      <td>2.0</td>\n",
       "    </tr>\n",
       "  </tbody>\n",
       "</table>\n",
       "<p>1 rows × 22 columns</p>\n",
       "</div>"
      ],
      "text/plain": [
       "   zap st   dan  mesec  leto roj  dan.1  mesec.1  leto dg  starost  patol  \\\n",
       "71     20  18.0    6.0    1981.0    5.0      7.0   2001.0    20.05      1   \n",
       "\n",
       "    IRS  ...  meta  bezgavke  operacija  R0,1,2  RT  RT ob relapsu  dan.2  \\\n",
       "71    3  ...     1         1          2     NaN   1            1.0   24.0   \n",
       "\n",
       "    mesec.2  leto smrti  status  \n",
       "71      2.0      2004.0     2.0  \n",
       "\n",
       "[1 rows x 22 columns]"
      ]
     },
     "execution_count": 34,
     "metadata": {},
     "output_type": "execute_result"
    }
   ],
   "source": [
    "df.loc[df['starost']>18]"
   ]
  },
  {
   "cell_type": "code",
   "execution_count": 35,
   "metadata": {},
   "outputs": [
    {
     "data": {
      "text/plain": [
       "(179, 22)"
      ]
     },
     "execution_count": 35,
     "metadata": {},
     "output_type": "execute_result"
    }
   ],
   "source": [
    "df.shape"
   ]
  },
  {
   "cell_type": "markdown",
   "metadata": {},
   "source": [
    "Only one patient is older then 18 at the time of the diagnosis. This is an outlier (Maja Cesen Feb 18, 2019) and we will delete the record."
   ]
  },
  {
   "cell_type": "code",
   "execution_count": 36,
   "metadata": {},
   "outputs": [],
   "source": [
    "df.drop(df.index[71], inplace=True) #delete record ofr patient older > 18\n"
   ]
  },
  {
   "cell_type": "code",
   "execution_count": 37,
   "metadata": {},
   "outputs": [
    {
     "data": {
      "text/html": [
       "<div>\n",
       "<style scoped>\n",
       "    .dataframe tbody tr th:only-of-type {\n",
       "        vertical-align: middle;\n",
       "    }\n",
       "\n",
       "    .dataframe tbody tr th {\n",
       "        vertical-align: top;\n",
       "    }\n",
       "\n",
       "    .dataframe thead th {\n",
       "        text-align: right;\n",
       "    }\n",
       "</style>\n",
       "<table border=\"1\" class=\"dataframe\">\n",
       "  <thead>\n",
       "    <tr style=\"text-align: right;\">\n",
       "      <th></th>\n",
       "      <th>zap st</th>\n",
       "      <th>dan</th>\n",
       "      <th>mesec</th>\n",
       "      <th>leto roj</th>\n",
       "      <th>dan.1</th>\n",
       "      <th>mesec.1</th>\n",
       "      <th>leto dg</th>\n",
       "      <th>starost</th>\n",
       "      <th>patol</th>\n",
       "      <th>IRS</th>\n",
       "      <th>...</th>\n",
       "      <th>meta</th>\n",
       "      <th>bezgavke</th>\n",
       "      <th>operacija</th>\n",
       "      <th>R0,1,2</th>\n",
       "      <th>RT</th>\n",
       "      <th>RT ob relapsu</th>\n",
       "      <th>dan.2</th>\n",
       "      <th>mesec.2</th>\n",
       "      <th>leto smrti</th>\n",
       "      <th>status</th>\n",
       "    </tr>\n",
       "  </thead>\n",
       "  <tbody>\n",
       "  </tbody>\n",
       "</table>\n",
       "<p>0 rows × 22 columns</p>\n",
       "</div>"
      ],
      "text/plain": [
       "Empty DataFrame\n",
       "Columns: [zap st, dan, mesec, leto roj, dan.1, mesec.1, leto dg, starost, patol, IRS, mesto, size, meta, bezgavke, operacija, R0,1,2, RT, RT ob relapsu, dan.2, mesec.2, leto smrti, status]\n",
       "Index: []\n",
       "\n",
       "[0 rows x 22 columns]"
      ]
     },
     "execution_count": 37,
     "metadata": {},
     "output_type": "execute_result"
    }
   ],
   "source": [
    "df.loc[df['starost']>18]"
   ]
  },
  {
   "cell_type": "markdown",
   "metadata": {},
   "source": [
    "The dataset has 178 rows (patients) and 22 columns (observed characteristics) after the cleaning."
   ]
  },
  {
   "cell_type": "markdown",
   "metadata": {},
   "source": [
    "### Age distribution at diagnosis"
   ]
  },
  {
   "cell_type": "code",
   "execution_count": 38,
   "metadata": {},
   "outputs": [
    {
     "data": {
      "text/plain": [
       "Text(0, 0.5, 'Frequency')"
      ]
     },
     "execution_count": 38,
     "metadata": {},
     "output_type": "execute_result"
    },
    {
     "data": {
      "image/png": "[encoded data removed]",
      "text/plain": [
       "<Figure size 432x288 with 1 Axes>"
      ]
     },
     "metadata": {
      "needs_background": "light"
     },
     "output_type": "display_data"
    }
   ],
   "source": [
    "df.starost.hist(bins=20, rwidth=1, color='#0504aa')\n",
    "plt.title('Age distribution at diagnosis:')\n",
    "plt.xlabel('Age in years')\n",
    "plt.ylabel('Frequency')"
   ]
  },
  {
   "cell_type": "code",
   "execution_count": 39,
   "metadata": {},
   "outputs": [
    {
     "data": {
      "text/plain": [
       "count    178.000000\n",
       "mean       7.775899\n",
       "std        5.189127\n",
       "min        0.250000\n",
       "25%        3.495000\n",
       "50%        6.450000\n",
       "75%       12.352500\n",
       "max       17.940000\n",
       "Name: starost, dtype: float64"
      ]
     },
     "execution_count": 39,
     "metadata": {},
     "output_type": "execute_result"
    }
   ],
   "source": [
    "#Describe summary statistics for age (starost)\n",
    "df.starost.describe()"
   ]
  },
  {
   "cell_type": "code",
   "execution_count": 40,
   "metadata": {},
   "outputs": [
    {
     "data": {
      "text/plain": [
       "0    4.0\n",
       "dtype: float64"
      ]
     },
     "execution_count": 40,
     "metadata": {},
     "output_type": "execute_result"
    }
   ],
   "source": [
    "#Get the most frequent age \n",
    "df.starost.mode()"
   ]
  },
  {
   "cell_type": "code",
   "execution_count": 41,
   "metadata": {},
   "outputs": [
    {
     "data": {
      "text/plain": [
       "6.45"
      ]
     },
     "execution_count": 41,
     "metadata": {},
     "output_type": "execute_result"
    }
   ],
   "source": [
    "#Get the median age (value at the middle of the distribution)\n",
    "df.starost.median()"
   ]
  },
  {
   "cell_type": "markdown",
   "metadata": {},
   "source": [
    "The distribution of age at diagnosis appears to be right skewed with different values for mean, median and mode. \n",
    "The most frequent age at diagnosis is 4. It appears that 68.27% of children in the study are diagnosed between (7.77-5.18)=2.59 and (7.77+5.18)=12.95 years of age. "
   ]
  },
  {
   "cell_type": "code",
   "execution_count": 42,
   "metadata": {},
   "outputs": [
    {
     "data": {
      "text/plain": [
       "<matplotlib.axes._subplots.AxesSubplot at 0x213ca78e860>"
      ]
     },
     "execution_count": 42,
     "metadata": {},
     "output_type": "execute_result"
    },
    {
     "data": {
      "image/png": "[encoded data removed]",
      "text/plain": [
       "<Figure size 432x288 with 1 Axes>"
      ]
     },
     "metadata": {
      "needs_background": "light"
     },
     "output_type": "display_data"
    }
   ],
   "source": [
    "#show \"starost\" as a boxplot\n",
    "df.boxplot(column=\"starost\")"
   ]
  },
  {
   "cell_type": "markdown",
   "metadata": {},
   "source": [
    "1)Zbriši 20 letnika.\n",
    "Dva maksimuma za leto.\n",
    "\n",
    "2)Histogram in statistiko za vsak parameter iz opisa.\n",
    "\n",
    "3)\n",
    "za RT=1 preštejem žive in mrtve\n",
    "za RT=2 preštejem žive in mrtve\n",
    "za RT=2 in \"RT ob relapsu\"=1 preštej žive in mrtve\n",
    "\n",
    "4a) koliko je živih in koliko je mrtvih v množici\n",
    "koliko je živih in koliko mrtvih za vsak parameter iz opisa\n",
    "\n",
    "5) kaplan maier \n",
    "\n"
   ]
  },
  {
   "cell_type": "markdown",
   "metadata": {},
   "source": [
    "### Patol distribution "
   ]
  },
  {
   "cell_type": "markdown",
   "metadata": {},
   "source": [
    "Patol is a categorical variable. It can take the following values: \n",
    "<ul>\n",
    "<li>1=E</li>\n",
    "<li>2=A</li>\n",
    "<li>3=ni znano</li>\n",
    "<li>4=spindle, botroid</li>\n",
    "</ul>"
   ]
  },
  {
   "cell_type": "code",
   "execution_count": 43,
   "metadata": {},
   "outputs": [
    {
     "data": {
      "image/png": "[encoded data removed]",
      "text/plain": [
       "<Figure size 432x288 with 1 Axes>"
      ]
     },
     "metadata": {},
     "output_type": "display_data"
    }
   ],
   "source": [
    "values = [sum(df['patol']==1), sum(df['patol']==2), sum(df['patol']==3), sum(df['patol']==4)]\n",
    "colors = ['b', 'g', 'r', 'c']\n",
    "labels = ['E', 'A', 'ni znano', 'spindle, botroid']\n",
    "explode = (0.1, 0, 0, 0)\n",
    "plt.pie(values, colors=colors, labels= values,explode=explode,counterclock=False, shadow=True)\n",
    "plt.title('Patol distribution')\n",
    "plt.legend(labels,title=\"Legenda:\",\n",
    "          loc=\"center left\",\n",
    "          bbox_to_anchor=(1, 0, 0.5, 1))\n",
    "plt.show()"
   ]
  },
  {
   "cell_type": "markdown",
   "metadata": {},
   "source": [
    "### Mesto distribution"
   ]
  },
  {
   "cell_type": "markdown",
   "metadata": {},
   "source": [
    "Mesto is a categorical variable. It can take the following values:\n",
    "<ul>\n",
    "<li>1=H/N</li>\n",
    "<li>2=parameningeal</li>\n",
    "<li>3=orbita</li>\n",
    "<li>4=okoncine</li>\n",
    "<li>5=toraks</li>\n",
    "<li>6=abdomen, pelvis, retroperitonej</li>\n",
    "<li>7=bladder/prostate</li>\n",
    "<li>8=testis, uterus, vagina</li>\n",
    "</ul>    "
   ]
  },
  {
   "cell_type": "code",
   "execution_count": 62,
   "metadata": {},
   "outputs": [
    {
     "data": {
      "image/png": "[encoded data removed]",
      "text/plain": [
       "<Figure size 432x288 with 1 Axes>"
      ]
     },
     "metadata": {},
     "output_type": "display_data"
    }
   ],
   "source": [
    "values = [sum(df['mesto']==1), sum(df['mesto']==2), sum(df['mesto']==3), sum(df['mesto']==4), \n",
    "         sum(df['mesto']==5), sum(df['mesto']==6), sum(df['mesto']==7), sum(df['mesto']==8)]\n",
    "colors = ['b', 'g', 'r', 'c', 'pink', 'hotpink', 'magenta', 'purple']\n",
    "labels = ['H/N', 'parameningeal', 'orbita', 'okoncine','toraks','abdomen, pelvis, retroperitonej',\n",
    "          'bladder/prostate','testis, uterus, vagina']\n",
    "explode = (0.1, 0, 0, 0, 0, 0, 0, 0)\n",
    "plt.pie(values, colors=colors, labels= values,explode=explode,counterclock=False, shadow=True)\n",
    "plt.title('Mesto distribution')\n",
    "plt.legend(labels,title=\"Legenda:\",\n",
    "          loc=\"center left\",\n",
    "          bbox_to_anchor=(1, 0, 0.5, 1))\n",
    "plt.show()"
   ]
  },
  {
   "cell_type": "markdown",
   "metadata": {},
   "source": [
    "### Size distribution"
   ]
  },
  {
   "cell_type": "markdown",
   "metadata": {},
   "source": [
    "Size is a categorical variable. It can take the following values:\n",
    "<ul>\n",
    "<li>1=favourable (A)</li>\n",
    "<li>2=unfavourable (B)</li>\n",
    "<li>3=ni znano</li>\n",
    "</ul>  "
   ]
  },
  {
   "cell_type": "code",
   "execution_count": 45,
   "metadata": {},
   "outputs": [
    {
     "data": {
      "image/png": "[encoded data removed]",
      "text/plain": [
       "<Figure size 432x288 with 1 Axes>"
      ]
     },
     "metadata": {},
     "output_type": "display_data"
    }
   ],
   "source": [
    "values = [sum(df['size']==1), sum(df['size']==2), sum(df['size']==3)]\n",
    "colors = ['g', 'b', 'r']\n",
    "labels = ['favourable (A)', 'unfavourable (B)', 'ni znano']\n",
    "explode = (0, 0.1, 0)\n",
    "plt.pie(values, colors=colors, labels= values,explode=explode,counterclock=False, shadow=True)\n",
    "plt.title('Size distribution')\n",
    "plt.legend(labels,title=\"Legenda:\",\n",
    "          loc=\"center left\",\n",
    "          bbox_to_anchor=(1, 0, 0.5, 1))\n",
    "plt.show()"
   ]
  },
  {
   "cell_type": "markdown",
   "metadata": {},
   "source": [
    "### Meta distribution\n",
    "\n",
    "Meta is a categorical variable. It can take the following values:\n",
    "\n",
    "<ul>\n",
    "<li>1=ni meta</li>\n",
    "<li>2=meta</li>\n",
    "<li>3=samo pulmo</li>\n",
    "</ul>"
   ]
  },
  {
   "cell_type": "code",
   "execution_count": 46,
   "metadata": {},
   "outputs": [
    {
     "data": {
      "image/png": "[encoded data removed]",
      "text/plain": [
       "<Figure size 432x288 with 1 Axes>"
      ]
     },
     "metadata": {},
     "output_type": "display_data"
    }
   ],
   "source": [
    "values = [sum(df['meta']==1), sum(df['meta']==2), sum(df['meta']==3)]\n",
    "colors = ['g', 'b', 'r']\n",
    "labels = ['ni meta', 'meta', 'samo pulmo']\n",
    "explode = (0.1, 0, 0)\n",
    "plt.pie(values, colors=colors, labels= values,explode=explode,counterclock=False, shadow=True)\n",
    "plt.title('Meta distribution')\n",
    "plt.legend(labels,title=\"Legenda:\",\n",
    "          loc=\"center left\",\n",
    "          bbox_to_anchor=(1, 0, 0.5, 1))\n",
    "plt.show()"
   ]
  },
  {
   "cell_type": "markdown",
   "metadata": {},
   "source": [
    "### Bezgavke distribution\n",
    "\n",
    "Bezgavke is a categorical variable. It can take the following values:\n",
    "\n",
    "<ul>\n",
    "<li>1=neg</li>\n",
    "<li>2=poz</li>\n",
    "</ul>"
   ]
  },
  {
   "cell_type": "code",
   "execution_count": 47,
   "metadata": {},
   "outputs": [
    {
     "data": {
      "image/png": "[encoded data removed]",
      "text/plain": [
       "<Figure size 432x288 with 1 Axes>"
      ]
     },
     "metadata": {},
     "output_type": "display_data"
    }
   ],
   "source": [
    "values = [sum(df['bezgavke']==1), sum(df['bezgavke']==2)]\n",
    "colors = ['g', 'b']\n",
    "labels = ['neg', 'poz']\n",
    "explode = (0.1, 0)\n",
    "plt.pie(values, colors=colors, labels= values,explode=explode,counterclock=False, shadow=True)\n",
    "plt.title('Bezgavke distribution')\n",
    "plt.legend(labels,title=\"Legenda:\",\n",
    "          loc=\"center left\",\n",
    "          bbox_to_anchor=(1, 0, 0.5, 1))\n",
    "plt.show()"
   ]
  },
  {
   "cell_type": "markdown",
   "metadata": {},
   "source": [
    "### Operacija distribution\n",
    "\n",
    "Operacija is a categorical variable. It can take the following values:\n",
    "\n",
    "<ul>\n",
    "<li>1=yes</li>\n",
    "<li>2=no</li>\n",
    "</ul>\n"
   ]
  },
  {
   "cell_type": "code",
   "execution_count": 48,
   "metadata": {},
   "outputs": [
    {
     "data": {
      "image/png": "[encoded data removed]",
      "text/plain": [
       "<Figure size 432x288 with 1 Axes>"
      ]
     },
     "metadata": {},
     "output_type": "display_data"
    }
   ],
   "source": [
    "values = [sum(df['operacija']==1), sum(df['operacija']==2)]\n",
    "colors = ['g', 'b']\n",
    "labels = ['yes', 'no']\n",
    "explode = (0.1, 0)\n",
    "plt.pie(values, colors=colors, labels= values,explode=explode,counterclock=False, shadow=True)\n",
    "plt.title('Operacija distribution')\n",
    "plt.legend(labels,title=\"Legenda:\",\n",
    "          loc=\"center left\",\n",
    "          bbox_to_anchor=(1, 0, 0.5, 1))\n",
    "plt.show()"
   ]
  },
  {
   "cell_type": "markdown",
   "metadata": {},
   "source": [
    "### R0,1,2 distribution\n",
    "\n",
    "R0,1,2 is a categorical variable. It can take the following values:\n",
    "\n",
    "<ul>\n",
    "<li>0=R0</li>\n",
    "<li>1=R1</li>\n",
    "<li>2=R2</li>\n",
    "<li>3=R3</li>\n",
    "<li>4=ni znano</li>    \n",
    "</ul>"
   ]
  },
  {
   "cell_type": "code",
   "execution_count": 49,
   "metadata": {},
   "outputs": [
    {
     "data": {
      "image/png": "[encoded data removed]",
      "text/plain": [
       "<Figure size 432x288 with 1 Axes>"
      ]
     },
     "metadata": {},
     "output_type": "display_data"
    }
   ],
   "source": [
    "values = [sum(df['R0,1,2']==0), sum(df['R0,1,2']==1), sum(df['R0,1,2']==2), sum(df['R0,1,2']==3), sum(df['R0,1,2']==4)]\n",
    "colors = ['b', 'g', 'r', 'c', 'purple']\n",
    "labels = ['R0', 'R1', 'R2', 'R3','ni znano']\n",
    "explode = (0.1, 0, 0, 0,0)\n",
    "plt.pie(values, colors=colors, labels= values,explode=explode,counterclock=False, shadow=True)\n",
    "plt.title('R0,1,2 distribution')\n",
    "plt.legend(labels,title=\"Legenda:\",\n",
    "          loc=\"center left\",\n",
    "          bbox_to_anchor=(1, 0, 0.5, 1))\n",
    "plt.show()"
   ]
  },
  {
   "cell_type": "markdown",
   "metadata": {},
   "source": [
    "### RT distribution\n",
    "\n",
    "RT is a categorical variable. It can take the following values:\n",
    "    \n",
    "<ul>\n",
    "<li>1=yes</li>\n",
    "<li>2=no</li>\n",
    "</ul>"
   ]
  },
  {
   "cell_type": "code",
   "execution_count": 50,
   "metadata": {},
   "outputs": [
    {
     "data": {
      "image/png": "[encoded data removed]",
      "text/plain": [
       "<Figure size 432x288 with 1 Axes>"
      ]
     },
     "metadata": {},
     "output_type": "display_data"
    }
   ],
   "source": [
    "values = [sum(df['RT']==1), sum(df['RT']==2)]\n",
    "colors = ['g', 'b']\n",
    "labels = ['yes', 'no']\n",
    "explode = (0.1, 0)\n",
    "plt.pie(values, colors=colors, labels= values,explode=explode,counterclock=False, shadow=True)\n",
    "plt.title('RT distribution')\n",
    "plt.legend(labels,title=\"Legenda:\",\n",
    "          loc=\"center left\",\n",
    "          bbox_to_anchor=(1, 0, 0.5, 1))\n",
    "plt.show()"
   ]
  },
  {
   "cell_type": "markdown",
   "metadata": {},
   "source": [
    "### Status distribution\n",
    "\n",
    "Status is a categorical variable. It can take the following values:\n",
    "\n",
    "<ul>\n",
    "<li>1=živ</li>\n",
    "<li>2=mrtev</li>\n",
    "<li>3=toksična smrt</li>\n",
    "</ul>"
   ]
  },
  {
   "cell_type": "code",
   "execution_count": 51,
   "metadata": {},
   "outputs": [
    {
     "data": {
      "image/png": "[encoded data removed]",
      "text/plain": [
       "<Figure size 432x288 with 1 Axes>"
      ]
     },
     "metadata": {},
     "output_type": "display_data"
    }
   ],
   "source": [
    "values = [sum(df['status']==1), sum(df['status']==2), sum(df['status']==3)]\n",
    "colors = ['g', 'b', 'r']\n",
    "labels = ['živ', 'mrtev', 'toksična smrt']\n",
    "explode = (0.1, 0, 0)\n",
    "plt.pie(values, colors=colors, labels= values,explode=explode,counterclock=False, shadow=True)\n",
    "plt.title('Status distribution')\n",
    "plt.legend(labels,title=\"Legenda:\",\n",
    "          loc=\"center left\",\n",
    "          bbox_to_anchor=(1, 0, 0.5, 1))\n",
    "plt.show()"
   ]
  },
  {
   "cell_type": "markdown",
   "metadata": {},
   "source": [
    "## Counting status \"RT=2\" and \"RT ob relapsu=1\""
   ]
  },
  {
   "cell_type": "code",
   "execution_count": 52,
   "metadata": {},
   "outputs": [
    {
     "name": "stdout",
     "output_type": "stream",
     "text": [
      "Število živih za RT=2 in RT ob relapsu=1 :  4\n",
      "Število mrtvih za RT=2 in RT ob relapsu=1 :  7\n"
     ]
    }
   ],
   "source": [
    "print(\"Število živih za RT=2 in RT ob relapsu=1 : \", sum((df['RT']==2)&(df['RT ob relapsu']==1)&(df['status']==1)))\n",
    "print(\"Število mrtvih za RT=2 in RT ob relapsu=1 : \", sum((df['RT']==2)&(df['RT ob relapsu']==1)&(df['status']==2)))"
   ]
  },
  {
   "cell_type": "markdown",
   "metadata": {},
   "source": [
    "## Counting status for patol parameters"
   ]
  },
  {
   "cell_type": "code",
   "execution_count": 53,
   "metadata": {},
   "outputs": [
    {
     "name": "stdout",
     "output_type": "stream",
     "text": [
      "Število živih za patol E:  67\n",
      "Število mrtvih za patol E:  41\n",
      "Število živih za patol A:  22\n",
      "Število mrtvih za patol A:  23\n",
      "Število živih za patol ni znano:  10\n",
      "Število mrtvih za patol ni znano:  2\n",
      "Število živih za patol spindle, botroid:  7\n",
      "Število mrtvih za patol spindle, botroid:  3\n"
     ]
    }
   ],
   "source": [
    "print(\"Število živih za patol E: \", sum((df['patol']==1)&(df['status']==1)))\n",
    "print(\"Število mrtvih za patol E: \", sum((df['patol']==1)&(df['status']==2)))\n",
    "print(\"Število živih za patol A: \", sum((df['patol']==2)&(df['status']==1)))\n",
    "print(\"Število mrtvih za patol A: \", sum((df['patol']==2)&(df['status']==2)))\n",
    "print(\"Število živih za patol ni znano: \", sum((df['patol']==3)&(df['status']==1)))\n",
    "print(\"Število mrtvih za patol ni znano: \", sum((df['patol']==3)&(df['status']==2)))\n",
    "print(\"Število živih za patol spindle, botroid: \", sum((df['patol']==4)&(df['status']==1)))\n",
    "print(\"Število mrtvih za patol spindle, botroid: \", sum((df['patol']==4)&(df['status']==2)))"
   ]
  },
  {
   "cell_type": "markdown",
   "metadata": {},
   "source": [
    "## Counting status for mesto parameters"
   ]
  },
  {
   "cell_type": "code",
   "execution_count": 54,
   "metadata": {},
   "outputs": [
    {
     "name": "stdout",
     "output_type": "stream",
     "text": [
      "Število živih za mesto H/N:  6\n",
      "Število mrtvih za mesto H/N:  5\n",
      "Število živih za mesto parameningeal:  28\n",
      "Število mrtvih za mesto parameningeal:  21\n",
      "Število živih za mesto orbita:  10\n",
      "Število mrtvih za mesto orbita:  3\n",
      "Število živih za mesto okoncine:  11\n",
      "Število mrtvih za mesto okoncine:  10\n",
      "Število živih za mesto toraks:  5\n",
      "Število mrtvih za mesto toraks:  9\n",
      "Število živih za mesto abdomen, pelvis, retroperitonej:  15\n",
      "Število mrtvih za mesto abdomen, pelvis, retroperitonej:  15\n",
      "Število živih za mesto bladder/prostate:  13\n",
      "Število mrtvih za mesto bladder/prostate:  0\n",
      "Število živih za mesto testis, uterus, vagina:  18\n",
      "Število mrtvih za mesto testis, uterus, vagina:  6\n"
     ]
    }
   ],
   "source": [
    "print(\"Število živih za mesto H/N: \", sum((df['mesto']==1)&(df['status']==1)))\n",
    "print(\"Število mrtvih za mesto H/N: \", sum((df['mesto']==1)&(df['status']==2)))\n",
    "print(\"Število živih za mesto parameningeal: \", sum((df['mesto']==2)&(df['status']==1)))\n",
    "print(\"Število mrtvih za mesto parameningeal: \", sum((df['mesto']==2)&(df['status']==2)))\n",
    "print(\"Število živih za mesto orbita: \", sum((df['mesto']==3)&(df['status']==1)))\n",
    "print(\"Število mrtvih za mesto orbita: \", sum((df['mesto']==3)&(df['status']==2)))\n",
    "print(\"Število živih za mesto okoncine: \", sum((df['mesto']==4)&(df['status']==1)))\n",
    "print(\"Število mrtvih za mesto okoncine: \", sum((df['mesto']==4)&(df['status']==2)))\n",
    "print(\"Število živih za mesto toraks: \", sum((df['mesto']==5)&(df['status']==1)))\n",
    "print(\"Število mrtvih za mesto toraks: \", sum((df['mesto']==5)&(df['status']==2)))\n",
    "print(\"Število živih za mesto abdomen, pelvis, retroperitonej: \", sum((df['mesto']==6)&(df['status']==1)))\n",
    "print(\"Število mrtvih za mesto abdomen, pelvis, retroperitonej: \", sum((df['mesto']==6)&(df['status']==2)))\n",
    "print(\"Število živih za mesto bladder/prostate: \", sum((df['mesto']==7)&(df['status']==1)))\n",
    "print(\"Število mrtvih za mesto bladder/prostate: \", sum((df['mesto']==7)&(df['status']==2)))\n",
    "print(\"Število živih za mesto testis, uterus, vagina: \", sum((df['mesto']==8)&(df['status']==1)))\n",
    "print(\"Število mrtvih za mesto testis, uterus, vagina: \", sum((df['mesto']==8)&(df['status']==2)))"
   ]
  },
  {
   "cell_type": "markdown",
   "metadata": {},
   "source": [
    "## Counting statuses for size parameters"
   ]
  },
  {
   "cell_type": "code",
   "execution_count": 55,
   "metadata": {},
   "outputs": [
    {
     "name": "stdout",
     "output_type": "stream",
     "text": [
      "Število živih za size favourable (A):  48\n",
      "Število mrtvih za size favourable (A):  15\n",
      "Število živih za size unfavourable (B):  57\n",
      "Število mrtvih za size unfavourable (B)):  53\n",
      "Število živih za ni znano:  1\n",
      "Število mrtvih za ni znano:  1\n"
     ]
    }
   ],
   "source": [
    "print(\"Število živih za size favourable (A): \", sum((df['size']==1)&(df['status']==1)))\n",
    "print(\"Število mrtvih za size favourable (A): \", sum((df['size']==1)&(df['status']==2)))\n",
    "print(\"Število živih za size unfavourable (B): \", sum((df['size']==2)&(df['status']==1)))\n",
    "print(\"Število mrtvih za size unfavourable (B)): \", sum((df['size']==2)&(df['status']==2)))\n",
    "print(\"Število živih za ni znano: \", sum((df['size']==3)&(df['status']==1)))\n",
    "print(\"Število mrtvih za ni znano: \", sum((df['size']==3)&(df['status']==2)))"
   ]
  },
  {
   "cell_type": "markdown",
   "metadata": {},
   "source": [
    "## Counting statuses for meta parameters"
   ]
  },
  {
   "cell_type": "code",
   "execution_count": 56,
   "metadata": {},
   "outputs": [
    {
     "name": "stdout",
     "output_type": "stream",
     "text": [
      "Število živih za ni meta:  95\n",
      "Število mrtvih za ni meta:  32\n",
      "Število živih za meta:  8\n",
      "Število mrtvih za meta:  31\n",
      "Število živih za samo pulmo:  3\n",
      "Število mrtvih za samo pulmo:  6\n"
     ]
    }
   ],
   "source": [
    "print(\"Število živih za ni meta: \", sum((df['meta']==1)&(df['status']==1)))\n",
    "print(\"Število mrtvih za ni meta: \", sum((df['meta']==1)&(df['status']==2)))\n",
    "print(\"Število živih za meta: \", sum((df['meta']==2)&(df['status']==1)))\n",
    "print(\"Število mrtvih za meta: \", sum((df['meta']==2)&(df['status']==2)))\n",
    "print(\"Število živih za samo pulmo: \", sum((df['meta']==3)&(df['status']==1)))\n",
    "print(\"Število mrtvih za samo pulmo: \", sum((df['meta']==3)&(df['status']==2)))"
   ]
  },
  {
   "cell_type": "markdown",
   "metadata": {},
   "source": [
    "## Counting statuses for bezgavke parameters"
   ]
  },
  {
   "cell_type": "code",
   "execution_count": 57,
   "metadata": {},
   "outputs": [
    {
     "name": "stdout",
     "output_type": "stream",
     "text": [
      "Število živih za bezgavke neg:  78\n",
      "Število mrtvih za bezgavke neg:  31\n",
      "Število živih za bezgavke poz:  28\n",
      "Število mrtvih za bezgavke poz:  38\n"
     ]
    }
   ],
   "source": [
    "print(\"Število živih za bezgavke neg: \", sum((df['bezgavke']==1)&(df['status']==1)))\n",
    "print(\"Število mrtvih za bezgavke neg: \", sum((df['bezgavke']==1)&(df['status']==2)))\n",
    "print(\"Število živih za bezgavke poz: \", sum((df['bezgavke']==2)&(df['status']==1)))\n",
    "print(\"Število mrtvih za bezgavke poz: \", sum((df['bezgavke']==2)&(df['status']==2)))"
   ]
  },
  {
   "cell_type": "markdown",
   "metadata": {},
   "source": [
    "## Counting statuses for opearacija parameters"
   ]
  },
  {
   "cell_type": "code",
   "execution_count": 58,
   "metadata": {},
   "outputs": [
    {
     "name": "stdout",
     "output_type": "stream",
     "text": [
      "Število živih za operacija yes:  66\n",
      "Število mrtvih za operacija yes:  27\n",
      "Število živih za operacija no:  40\n",
      "Število mrtvih za operacija no:  42\n"
     ]
    }
   ],
   "source": [
    "print(\"Število živih za operacija yes: \", sum((df['operacija']==1)&(df['status']==1)))\n",
    "print(\"Število mrtvih za operacija yes: \", sum((df['operacija']==1)&(df['status']==2)))\n",
    "print(\"Število živih za operacija no: \", sum((df['operacija']==2)&(df['status']==1)))\n",
    "print(\"Število mrtvih za operacija no: \", sum((df['operacija']==2)&(df['status']==2)))"
   ]
  },
  {
   "cell_type": "markdown",
   "metadata": {},
   "source": [
    "## Counting statuses for R0,1,2 parameters"
   ]
  },
  {
   "cell_type": "code",
   "execution_count": 59,
   "metadata": {},
   "outputs": [
    {
     "name": "stdout",
     "output_type": "stream",
     "text": [
      "Število živih za R0:  34\n",
      "Število mrtvih za R0:  3\n",
      "Število živih za R1:  20\n",
      "Število mrtvih za R1:  10\n",
      "Število živih za R2:  10\n",
      "Število mrtvih za R2:  10\n",
      "Število živih za R3:  2\n",
      "Število mrtvih za R3:  1\n",
      "Število živih za R ni znano:  0\n",
      "Število mrtvih za R ni znano:  3\n"
     ]
    }
   ],
   "source": [
    "print(\"Število živih za R0: \", sum((df['R0,1,2']==0)&(df['status']==1)))\n",
    "print(\"Število mrtvih za R0: \", sum((df['R0,1,2']==0)&(df['status']==2)))\n",
    "print(\"Število živih za R1: \", sum((df['R0,1,2']==1)&(df['status']==1)))\n",
    "print(\"Število mrtvih za R1: \", sum((df['R0,1,2']==1)&(df['status']==2)))\n",
    "print(\"Število živih za R2: \", sum((df['R0,1,2']==2)&(df['status']==1)))\n",
    "print(\"Število mrtvih za R2: \", sum((df['R0,1,2']==2)&(df['status']==2)))\n",
    "print(\"Število živih za R3: \", sum((df['R0,1,2']==3)&(df['status']==1)))\n",
    "print(\"Število mrtvih za R3: \", sum((df['R0,1,2']==3)&(df['status']==2)))\n",
    "print(\"Število živih za R ni znano: \", sum((df['R0,1,2']==4)&(df['status']==1)))\n",
    "print(\"Število mrtvih za R ni znano: \", sum((df['R0,1,2']==4)&(df['status']==2)))"
   ]
  },
  {
   "cell_type": "markdown",
   "metadata": {},
   "source": [
    "## Counting statuses for RT parameters"
   ]
  },
  {
   "cell_type": "code",
   "execution_count": 60,
   "metadata": {},
   "outputs": [
    {
     "name": "stdout",
     "output_type": "stream",
     "text": [
      "Število živih za RT yes:  59\n",
      "Število mrtvih za RT yes:  41\n",
      "Število živih za RT no:  47\n",
      "Število mrtvih za RT no:  28\n"
     ]
    }
   ],
   "source": [
    "print(\"Število živih za RT yes: \", sum((df['RT']==1)&(df['status']==1)))\n",
    "print(\"Število mrtvih za RT yes: \", sum((df['RT']==1)&(df['status']==2)))\n",
    "print(\"Število živih za RT no: \", sum((df['RT']==2)&(df['status']==1)))\n",
    "print(\"Število mrtvih za RT no: \", sum((df['RT']==2)&(df['status']==2)))"
   ]
  }
 ],
 "metadata": {
  "kernelspec": {
   "display_name": "Python 3",
   "language": "python",
   "name": "python3"
  },
  "language_info": {
   "codemirror_mode": {
    "name": "ipython",
    "version": 3
   },
   "file_extension": ".py",
   "mimetype": "text/x-python",
   "name": "python",
   "nbconvert_exporter": "python",
   "pygments_lexer": "ipython3",
   "version": "3.6.7"
  }
 },
 "nbformat": 4,
 "nbformat_minor": 2
}
